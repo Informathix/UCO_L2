{
 "cells": [
  {
   "cell_type": "markdown",
   "metadata": {},
   "source": [
    "# Calcul matriciel"
   ]
  },
  {
   "cell_type": "markdown",
   "metadata": {},
   "source": [
    "On définitune matrice à l'aide de la commande `matrix` en donnant la liste de ses lignes, chaque ligne étant une liste de coefficients:"
   ]
  },
  {
   "cell_type": "code",
   "execution_count": 2,
   "metadata": {},
   "outputs": [],
   "source": [
    "M = matrix([[1,2], [3,4]])"
   ]
  },
  {
   "cell_type": "code",
   "execution_count": 17,
   "metadata": {},
   "outputs": [
    {
     "data": {
      "text/plain": [
       "[1 2]\n",
       "[3 4]"
      ]
     },
     "execution_count": 17,
     "metadata": {},
     "output_type": "execute_result"
    }
   ],
   "source": [
    "M"
   ]
  },
  {
   "cell_type": "code",
   "execution_count": 18,
   "metadata": {},
   "outputs": [
    {
     "data": {
      "image/png": "[encoded data removed]",
      "text/plain": [
       "Graphics object consisting of 1 graphics primitive"
      ]
     },
     "execution_count": 18,
     "metadata": {},
     "output_type": "execute_result"
    }
   ],
   "source": [
    "matrix_plot(M*M)"
   ]
  },
  {
   "cell_type": "code",
   "execution_count": 11,
   "metadata": {},
   "outputs": [
    {
     "data": {
      "text/plain": [
       "[ 7 10]\n",
       "[15 22]"
      ]
     },
     "execution_count": 11,
     "metadata": {},
     "output_type": "execute_result"
    }
   ],
   "source": [
    "M*M"
   ]
  },
  {
   "cell_type": "code",
   "execution_count": 5,
   "metadata": {},
   "outputs": [
    {
     "data": {
      "text/plain": [
       "3"
      ]
     },
     "execution_count": 5,
     "metadata": {},
     "output_type": "execute_result"
    }
   ],
   "source": [
    "M[1,0]"
   ]
  },
  {
   "cell_type": "code",
   "execution_count": 6,
   "metadata": {},
   "outputs": [
    {
     "data": {
      "text/plain": [
       "[138067399 201223170]\n",
       "[301834755 439902154]"
      ]
     },
     "execution_count": 6,
     "metadata": {},
     "output_type": "execute_result"
    }
   ],
   "source": [
    "M^12"
   ]
  },
  {
   "cell_type": "code",
   "execution_count": 7,
   "metadata": {},
   "outputs": [
    {
     "data": {
      "text/plain": [
       "[  -2    1]\n",
       "[ 3/2 -1/2]"
      ]
     },
     "execution_count": 7,
     "metadata": {},
     "output_type": "execute_result"
    }
   ],
   "source": [
    "M^(-1)"
   ]
  },
  {
   "cell_type": "code",
   "execution_count": null,
   "metadata": {},
   "outputs": [],
   "source": []
  },
  {
   "cell_type": "code",
   "execution_count": null,
   "metadata": {},
   "outputs": [],
   "source": []
  },
  {
   "cell_type": "code",
   "execution_count": 8,
   "metadata": {},
   "outputs": [
    {
     "data": {
      "text/plain": [
       "[1 0]\n",
       "[0 1]"
      ]
     },
     "execution_count": 8,
     "metadata": {},
     "output_type": "execute_result"
    }
   ],
   "source": [
    "M*M^(-1)"
   ]
  },
  {
   "cell_type": "code",
   "execution_count": null,
   "metadata": {},
   "outputs": [],
   "source": []
  },
  {
   "cell_type": "markdown",
   "metadata": {},
   "source": [
    "### Exercice 1\n",
    "\n",
    "Soit $A=\\dfrac{1}{3}\\begin{pmatrix}0&-2&-2\\\\2&0&-1\\\\2&1&0\\end{pmatrix}$. Montrez que $\\{A, A^2,A^3,A^4\\}$ muni du produit matriciel de $\\mathcal M_3(\\mathbb R)$ a une structure de groupe. Est-ce un sous-groupe de $(\\mathcal M_3(\\mathbb R),.)$?"
   ]
  },
  {
   "cell_type": "code",
   "execution_count": 13,
   "metadata": {},
   "outputs": [
    {
     "data": {
      "text/plain": [
       "[   0 -2/3 -2/3]\n",
       "[ 2/3    0 -1/3]\n",
       "[ 2/3  1/3    0]"
      ]
     },
     "execution_count": 13,
     "metadata": {},
     "output_type": "execute_result"
    }
   ],
   "source": [
    "A = (1/3)*matrix([[0,-2,-2],[2,0,-1],[2,1,0]])\n",
    "A"
   ]
  },
  {
   "cell_type": "code",
   "execution_count": 16,
   "metadata": {},
   "outputs": [
    {
     "data": {
      "text/plain": [
       "[\n",
       "[1 0 0]  [   0 -2/3 -2/3]  [-8/9 -2/9  2/9]  [   0  2/3  2/3]\n",
       "[0 1 0]  [ 2/3    0 -1/3]  [-2/9 -5/9 -4/9]  [-2/3    0  1/3]\n",
       "[0 0 1], [ 2/3  1/3    0], [ 2/9 -4/9 -5/9], [-2/3 -1/3    0],\n",
       "\n",
       "[ 8/9  2/9 -2/9]  [   0 -2/3 -2/3]  [-8/9 -2/9  2/9]  [   0  2/3  2/3]\n",
       "[ 2/9  5/9  4/9]  [ 2/3    0 -1/3]  [-2/9 -5/9 -4/9]  [-2/3    0  1/3]\n",
       "[-2/9  4/9  5/9], [ 2/3  1/3    0], [ 2/9 -4/9 -5/9], [-2/3 -1/3    0],\n",
       "\n",
       "[ 8/9  2/9 -2/9]\n",
       "[ 2/9  5/9  4/9]\n",
       "[-2/9  4/9  5/9]\n",
       "]"
      ]
     },
     "execution_count": 16,
     "metadata": {},
     "output_type": "execute_result"
    }
   ],
   "source": [
    "[A^k for k in range(9)]"
   ]
  },
  {
   "cell_type": "markdown",
   "metadata": {},
   "source": [
    "### Exercice 2\n",
    "\n",
    "Soit $A=\\dfrac{1}{3}\\begin{pmatrix}3&4&c\\\\a&-3&0\\\\0&b&d\\end{pmatrix}$. Déterminez $a$, $b$ et $c$ pour que A soit une matrice orthogonale."
   ]
  },
  {
   "cell_type": "markdown",
   "metadata": {},
   "source": [
    "### Exercice 3\n",
    "\n",
    "\n",
    "Qu'est-ce que l'endomorphisme de $\\mathbb R^2$ d'expression analytique canonique\n",
    "\n",
    "$$\\left\\{\\begin{align*} x'&=&-\\frac{1}{5}x-\\frac{2}{5}y\\\\y'&=&\\frac{3}{5}x+\\frac{6}{5}y \\end{align*}\\right.$$\n",
    "\n",
    "                                           \n",
    "                                                      \n",
    "Vous aurez besoin de déterminer la matrice A associée, le noyau de A grâce à `kernel`,\n",
    "l'image avec `image`. Ensuite, à vous d'essayer des petits calculs sur A pour deviner sa nature.\n"
   ]
  },
  {
   "cell_type": "markdown",
   "metadata": {},
   "source": [
    "### Exercice 4\n",
    "\n",
    "\n",
    "Les chaînes de Markov sont issues de la théorie des probabilités et utilisent des outils d'algèbre linéaire qui nous intéressent aujourd'hui. Elles permettent de simuler des phénomènes aléatoires qui évoluent au cours du temps. Nous allons les découvrir à travers l'étude d'un exemple simple.\n",
    "\n",
    "Zlot, Brzxxz et Morzgniouf sont trois villes situées respectivement en Syldavie, Bordurie et Bouzoukstan. Des trafiquants de photos dédicacées du groupe ABBA prennent leur marchandise le matin dans n'importe laquelle  de ces villes pour l'apporter le soir dans n'importe quelle autre. On notera pour simplifier $V_1$, $V_2$ et $V_3$ ces villes et $p_{ij}$ la probabilité qu'une marchandise prise le matin dans la ville $V_i$ soit rendue le soir dans la ville $V_j$. La matrice $(p_{ij})_{{1\\leqslant i \\leqslant 3}\\atop {1\\leqslant j\\leqslant 3}}$ est appelée *matrice de transition* de la chaîne de Markov. Que s'attend-on à observer sur les colonnes d'une matrice de transition ?\n",
    "\n",
    "Supposons que $P$ soit connue et vaille $$P=\\begin{pmatrix} 0,8 &0,3 &0,2\\\\ 0,1&0,2&0,6\\\\ 0,1&0,5&0,2\\end{pmatrix}$$\n",
    "\n",
    "Les trafiquants se promenant de ville en ville, il peut être utile de visualiser leurs déplacements par le *diagramme de transition* qui est en fait un graphe orienté. Sauriez-vous le représenter?\n",
    "\n",
    "\n",
    "\n",
    "\n",
    "On notera $x_i^{(k)}$ la proportion de trafiquants qui se trouvent au matin du jour $k$ dans la ville $V_i$. En probabilités, on appelle *vecteur d'état* tout élément $(x_1,\\cdots,x_n)$ de $[0,1]^{n}$ tel que $x_1+\\cdots+x_n=1$. \n",
    "\n",
    "Ainsi, $x^{(k)}=\\left( x_1^{(k)},x_2^{(k)},x_3^{(k)}\\right)$ est un vecteur d'état.\n",
    "\n",
    "On montre que les vecteurs d'état de la chaîne sont liés par la relation\n",
    "\n",
    "$$x^{(k)}=P\\cdot x^{(k-1)}$$\n",
    "\n",
    "et donc\n",
    "\n",
    "$$x^{(k)}=P^k\\cdot x^{(0)}$$\n",
    "\n",
    "\n",
    "Supposons que le chef de la mafia locale dispose de 1000 trafiquants qui partent tous le matin du jour 0 de la ville de Zlot. Quelle sera la proportion de trafiquants dans chacune des villes au bout d'une semaine ? d'un mois ? d'un an ?\n",
    "\n",
    "\n",
    "Le parrain voudrait que la  proportion moyenne de trafiquants soit stable\n",
    "d'un  jour  sur l'autre.  Il  recherche  donc  les vecteurs  d'état  $x$\n",
    "vérifiant  l'équation  $P\\cdot  x=x$.  \n",
    "\n",
    "À quelle notion cela se ratache-t-il? Utiliser SageMath pour vous aider. Vous aurez sûrement besoin de vous renseigner sur `eigenvalues` et `eigenvectors_right`, `eigenspace_right`."
   ]
  },
  {
   "cell_type": "markdown",
   "metadata": {},
   "source": [
    "### Exercice 5\n",
    "\n",
    "À Morzgniouf, les jours sont soit secs, soit pluvieux. On désigne par $E_1$ l'état sec et $E_2$ l'état pluvieux et par $p_{ij}$ la probabilité qu'un jour soit dans l'état $E_i$ sachant que le jour précédent était dans l'état $E_j$. Les scientifiques Bouzouks ayant observé les phénomènes météorologiques des trent-deux dernières années à Morzgniouf ont établi la matrice de transition suivante\n",
    "\n",
    "$$P=\\begin{pmatrix} 0,750&0,338\\\\0,250&0,662\\end{pmatrix}$$\n",
    "\n",
    "Sachant qu'il fait beau aujourd'hui, quelle est la probabilité qu'il pleuve dans dix jours ?"
   ]
  },
  {
   "cell_type": "markdown",
   "metadata": {},
   "source": [
    "## Exercie 6\n",
    " Soit $A=\n",
    "  \\begin{pmatrix}\n",
    "    10&7&8&7\\\\\n",
    "    7&5&6&5\\\\\n",
    "    8&6&10&9\\\\\n",
    "    7&5&9&10\n",
    "  \\end{pmatrix}$, $B_1=\n",
    "  \\begin{pmatrix}\n",
    "    32 \\\\ 23 \\\\ 33 \\\\ 31\n",
    "  \\end{pmatrix}\n",
    "$ et $B_2=\n",
    "\\begin{pmatrix}\n",
    "  32,1\\\\22,9\\\\33,1\\\\30,9\n",
    "\\end{pmatrix}\n",
    "$\n",
    "\n",
    "Résolvez les systèmes $A\\times X= B_1$ et $A\\times X= B_2$: commentaires?\n"
   ]
  },
  {
   "cell_type": "markdown",
   "metadata": {},
   "source": [
    "## Exercice 7\n",
    "\n",
    "  On considère la matrice $$A=\n",
    "  \\begin{pmatrix}\n",
    "    10^{-20}& 0      &  1 \\\\\n",
    "    1      & 10^{20} &  1 \\\\\n",
    "    0      & 1      & -1 \\\\\n",
    "  \\end{pmatrix}\n",
    "$$ Quel est son rang? Quel est son déterminant? Utilisez les fonctions précédentes puis du papier et un crayon...w"
   ]
  },
  {
   "cell_type": "markdown",
   "metadata": {},
   "source": [
    "## Exercice 8\n",
    " Dans une île vendéenne, on trouve des tyrannosaures (prédateurs) et des pintades\n",
    "  (proies). On  note les populations de  tyrannosaures et de pintades  après $k$\n",
    "  années par $T_k$ et $P_k$. Un  biologiste a avancé que les populations varient\n",
    "  d'année en année selon le modèle suivant:\n",
    "\n",
    "$$\n",
    "\\begin{cases}\n",
    "T_k=0,6T_{k-1}+0,3P_{k-1}\\\\\n",
    "P_k=-0,5T_{k-1}+1,4P_{k-1}\n",
    "\\end{cases}\n",
    "$$\n",
    "\n",
    "\n",
    "Soit $M_k=\n",
    "\\begin{pmatrix}\n",
    "  T_k\\\\P_k\n",
    "\\end{pmatrix}\n",
    "$ la matrice des populations de tyrannosaures et de pintades après $k$ années et $M_0=\n",
    "\\begin{pmatrix}\n",
    "  10\\\\30\n",
    "\\end{pmatrix}\n",
    "$ la matrice de la population initiale.\n",
    "\n",
    "On note $A=\n",
    "\\frac{1}{10}\n",
    "\\begin{pmatrix}\n",
    "6&3\\\\\n",
    "-5&14\n",
    "\\end{pmatrix}\n",
    "$\n",
    "* Quelle est la population initiale des tyrannosaures?\n",
    "* Justifiez le fait que $a_{1,0}<0$ et $a_{1,1}>0$.\n",
    "* Exprimez la matrice des populations  après $k$ années en fonction de celle\n",
    "  des populations de l'année précédente.\n",
    "* Exprimez la matrice des populations  après $k$ années en fonction de celle\n",
    "  des populations initiales.\n",
    "* Quelle sera la population de tyrannosaures après 3 ans?"
   ]
  },
  {
   "cell_type": "markdown",
   "metadata": {},
   "source": [
    "## Exercice 9\n",
    "\n",
    "Dans une ferme du bocage vendéen, un fermier élève des pintades.\n",
    "\n",
    "Les pintades se reproduisent selon le schéma suivant:\n",
    "\n",
    "$$p_{n+2}=p_{n+1}+p_n$$\n",
    "\n",
    "avec $p_n$ le nombre de pintades au bout de $n$ mois sachant que $p_0=p_1=1$.\n",
    "\n",
    "On veut connaître le nombre de pintades au bout de 1111 mois.\n",
    "\n",
    "\n",
    "1. Estimez  le nombre  d'opérations arithmétiques élémentaires  pour calculer\n",
    "  $p_{1111}$.Combien de temps  cela prendra-t-il au fermier d'effectuer le  calcul sur son PC\n",
    "équipé d'un processeur I5 de 60 GFLOPs?\n",
    "2. Comment le calcul matriciel peut sauver le fermier?\n"
   ]
  },
  {
   "cell_type": "markdown",
   "metadata": {},
   "source": [
    "## Changement d'anneau\n",
    "\n",
    "Observez, expliquez, expérimentez..."
   ]
  },
  {
   "cell_type": "code",
   "execution_count": 24,
   "metadata": {},
   "outputs": [],
   "source": [
    "A = matrix(GF(2),2,2,[1,1,0,1])"
   ]
  },
  {
   "cell_type": "code",
   "execution_count": 25,
   "metadata": {},
   "outputs": [
    {
     "data": {
      "text/plain": [
       "[1 1]\n",
       "[0 1]"
      ]
     },
     "execution_count": 25,
     "metadata": {},
     "output_type": "execute_result"
    }
   ],
   "source": [
    "A"
   ]
  },
  {
   "cell_type": "code",
   "execution_count": 26,
   "metadata": {},
   "outputs": [
    {
     "data": {
      "text/plain": [
       "[1 0]\n",
       "[0 1]"
      ]
     },
     "execution_count": 26,
     "metadata": {},
     "output_type": "execute_result"
    }
   ],
   "source": [
    "A^2"
   ]
  },
  {
   "cell_type": "code",
   "execution_count": 27,
   "metadata": {},
   "outputs": [
    {
     "data": {
      "text/plain": [
       "[0 0]\n",
       "[0 0]"
      ]
     },
     "execution_count": 27,
     "metadata": {},
     "output_type": "execute_result"
    }
   ],
   "source": [
    "A + A"
   ]
  },
  {
   "cell_type": "code",
   "execution_count": 28,
   "metadata": {},
   "outputs": [],
   "source": [
    "B = matrix(ZZ,2,2,[1,1,0,1])"
   ]
  },
  {
   "cell_type": "code",
   "execution_count": 29,
   "metadata": {},
   "outputs": [
    {
     "data": {
      "text/plain": [
       "[1 1]\n",
       "[0 1]"
      ]
     },
     "execution_count": 29,
     "metadata": {},
     "output_type": "execute_result"
    }
   ],
   "source": [
    "B"
   ]
  },
  {
   "cell_type": "code",
   "execution_count": 30,
   "metadata": {},
   "outputs": [
    {
     "data": {
      "text/plain": [
       "[1 2]\n",
       "[0 1]"
      ]
     },
     "execution_count": 30,
     "metadata": {},
     "output_type": "execute_result"
    }
   ],
   "source": [
    "B^2"
   ]
  },
  {
   "cell_type": "code",
   "execution_count": 31,
   "metadata": {},
   "outputs": [
    {
     "data": {
      "text/plain": [
       "[2 2]\n",
       "[0 2]"
      ]
     },
     "execution_count": 31,
     "metadata": {},
     "output_type": "execute_result"
    }
   ],
   "source": [
    "B + B"
   ]
  },
  {
   "cell_type": "code",
   "execution_count": 32,
   "metadata": {},
   "outputs": [
    {
     "data": {
      "text/plain": [
       "[1 1]\n",
       "[0 1]"
      ]
     },
     "execution_count": 32,
     "metadata": {},
     "output_type": "execute_result"
    }
   ],
   "source": [
    "A.inverse()"
   ]
  },
  {
   "cell_type": "code",
   "execution_count": 33,
   "metadata": {},
   "outputs": [
    {
     "data": {
      "text/plain": [
       "[ 1 -1]\n",
       "[ 0  1]"
      ]
     },
     "execution_count": 33,
     "metadata": {},
     "output_type": "execute_result"
    }
   ],
   "source": [
    "B.inverse()"
   ]
  },
  {
   "cell_type": "markdown",
   "metadata": {},
   "source": [
    "## Exercice 10\n",
    "\n",
    "Dans toute la suite $U$ désigne une suite de 4 bits qui peut être\n",
    "représentée par la matrice \n",
    "\\begin{equation*}\n",
    "U=\\left( \n",
    "\\begin{array}{llll}\n",
    "x_{1} & x_{2} & x_{3} & x_{4}%\n",
    "\\end{array}%\n",
    "\\right)\n",
    "\\end{equation*}\n",
    "et la transposée de $U$ est notée $X$ : \n",
    "\\begin{equation*}\n",
    "^{t}U=X=\\left( \n",
    "\\begin{array}{l}\n",
    "x_{1} \\\\ \n",
    "x_{2} \\\\ \n",
    "x_{3} \\\\ \n",
    "x_{4}%\n",
    "\\end{array}%\n",
    "\\right)\n",
    "\\end{equation*}\n",
    "et il est bien entendu que les éléments $x_{i}$ sont considérés comme des éléments du corps $\\mathbb{F}_{2}$ en ce sens que $\n",
    "1+1=0.$ Pour améliorer la sécurité de la transmission des chaînes de 4 bits on décide de transformer le message $U$ en \n",
    "\\begin{equation*}\n",
    "V=U\\times B\n",
    "\\end{equation*}\n",
    "où $B$ est une matrice (judicieusement choisie) à coefficients dans $%\n",
    "\\mathbb{F}_{2}$ ou, si l'on préfère, on transforme le message $X$\n",
    "en $Y=A\\times X$\n",
    "\n",
    "\n",
    "\n",
    "1. Quelle relation existe-t-il entre $Y$ et $V$ ? Entre $A$ et $B$ ?\n",
    "\n",
    "2. Si on veut que $V=\\left( \n",
    "\\begin{array}{lllll}\n",
    "x_{1} & x_{2} & x_{3} & x_{4} & x_{2}%\n",
    "\\end{array}\n",
    "\\right) ,$ donner la matrice $B$.\n",
    "\n",
    "3. Si on veut que $Y=\\left( \n",
    "\\begin{array}{c}\n",
    "x_{1} \\\\ \n",
    "x_{1}+x_{2} \\\\ \n",
    "x_{3} \\\\ \n",
    "x_{1+}x_{4} \\\\ \n",
    "x_{2} \\\\ \n",
    "x_{3}%\n",
    "\\end{array}\n",
    "\\right)$,  donnner la matrice $A$.\n",
    "\n",
    "4. On veut rajouter au message $U$ un bit de parité paire (pour\n",
    "un bit de parité impaire, ce qui suit est impossible), décrire alors \n",
    "$V$ et donner alors $B$ ?\n",
    "\n",
    "5. On veut que $V=\\left( \n",
    "\\begin{array}{llllllll}\n",
    "x_{4} & x_{3} & x_{2} & x_{1} & x_{1} & x_{2} & x_{3} & x_{4}%\n",
    "\\end{array}%\n",
    "\\right)$, déterminer $B$.\n",
    "\n",
    "6. Quelqu'un décide de choisir \n",
    "\\begin{equation*}\n",
    "B=\\left( \n",
    "\\begin{array}{llllll}\n",
    "1 & 1 & 1 & 1 & 1 & 1 \\\\ \n",
    "0 & 1 & 0 & 1 & 0 & 1 \\\\ \n",
    "1 & 0 & 1 & 0 & 1 & 0 \\\\ \n",
    "1 & 1 & 0 & 0 & 1 & 1%\n",
    "\\end{array}%\n",
    "\\right)\n",
    "\\end{equation*}\n",
    "\n",
    "\n",
    "6.\n",
    "a. Calculer les images des éléments suivants : \n",
    "\n",
    "|$U$  | $V$| \n",
    "|:---  |---:\n",
    "|1111 | \n",
    "|1100 |\n",
    "|0011 |\n",
    "|0110 |\n",
    "|0101 |\n",
    "|0010 |\n",
    "|1010 |\n",
    "|0100 |\n",
    "\n",
    "\n",
    "\n",
    "b. Quelle remarque faites-vous sur le choix de $B$ ?\n",
    "\n",
    "c. Donner une matrice $B'$ ayant la même taille que $B$\n",
    "et qui ne possède pas à coup sûr le défaut précédent.\n",
    "\n",
    "d. Donner une matrice $B''$ ayant la même taille que $B$ et ayant le défaut (même pire si vous le voulez) de $B.$\n",
    "\n",
    "\n",
    "\n"
   ]
  },
  {
   "cell_type": "code",
   "execution_count": null,
   "metadata": {},
   "outputs": [],
   "source": []
  },
  {
   "cell_type": "code",
   "execution_count": null,
   "metadata": {},
   "outputs": [],
   "source": []
  }
 ],
 "metadata": {
  "kernelspec": {
   "display_name": "SageMath 8.5",
   "language": "",
   "name": "sagemath"
  },
  "language_info": {
   "codemirror_mode": {
    "name": "ipython",
    "version": 2
   },
   "file_extension": ".py",
   "mimetype": "text/x-python",
   "name": "python",
   "nbconvert_exporter": "python",
   "pygments_lexer": "ipython2",
   "version": "2.7.15"
  }
 },
 "nbformat": 4,
 "nbformat_minor": 2
}
