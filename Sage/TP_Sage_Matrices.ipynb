{
 "cells": [
  {
   "cell_type": "markdown",
   "metadata": {},
   "source": [
    "# Calcul matriciel"
   ]
  },
  {
   "cell_type": "markdown",
   "metadata": {},
   "source": [
    "On définitune matrice à l'aide de la commande `matrix` en donnant la liste de ses lignes, chaque ligne étant une liste de coefficients:"
   ]
  },
  {
   "cell_type": "code",
   "execution_count": 3,
   "metadata": {},
   "outputs": [],
   "source": [
    "M = matrix([[1,2], [3,4]])"
   ]
  },
  {
   "cell_type": "code",
   "execution_count": 4,
   "metadata": {},
   "outputs": [
    {
     "data": {
      "text/plain": [
       "[1 2]\n",
       "[3 4]"
      ]
     },
     "execution_count": 4,
     "metadata": {},
     "output_type": "execute_result"
    }
   ],
   "source": [
    "M"
   ]
  },
  {
   "cell_type": "code",
   "execution_count": 5,
   "metadata": {},
   "outputs": [
    {
     "data": {
      "text/plain": [
       "[ 7 10]\n",
       "[15 22]"
      ]
     },
     "execution_count": 5,
     "metadata": {},
     "output_type": "execute_result"
    }
   ],
   "source": [
    "M*M"
   ]
  },
  {
   "cell_type": "code",
   "execution_count": 6,
   "metadata": {},
   "outputs": [
    {
     "data": {
      "text/plain": [
       "[138067399 201223170]\n",
       "[301834755 439902154]"
      ]
     },
     "execution_count": 6,
     "metadata": {},
     "output_type": "execute_result"
    }
   ],
   "source": [
    "M^12"
   ]
  },
  {
   "cell_type": "code",
   "execution_count": 7,
   "metadata": {},
   "outputs": [
    {
     "data": {
      "text/plain": [
       "[  -2    1]\n",
       "[ 3/2 -1/2]"
      ]
     },
     "execution_count": 7,
     "metadata": {},
     "output_type": "execute_result"
    }
   ],
   "source": [
    "M^(-1)"
   ]
  },
  {
   "cell_type": "code",
   "execution_count": 8,
   "metadata": {},
   "outputs": [
    {
     "data": {
      "text/plain": [
       "[1 0]\n",
       "[0 1]"
      ]
     },
     "execution_count": 8,
     "metadata": {},
     "output_type": "execute_result"
    }
   ],
   "source": [
    "M*M^(-1)"
   ]
  },
  {
   "cell_type": "markdown",
   "metadata": {},
   "source": [
    "### Exercice 1\n",
    "\n",
    "Soit $A=\\dfrac{1}{3}\\begin{pmatrix}0&-2&-2\\\\2&0&-1\\\\2&1&0\\end{pmatrix}$. Montrez que $\\{A, A^2,A^3,A^4\\}$ muni du produit matriciel de $\\mathcal M_3(\\mathbb R)$ a une structure de groupe. Est-ce un sous-groupe de $\\mathcal M_3(\\mathbb R)$?"
   ]
  },
  {
   "cell_type": "markdown",
   "metadata": {},
   "source": [
    "### Exercice 2\n",
    "\n",
    "Soit $A=\\dfrac{1}{3}\\begin{pmatrix}3&4&c\\\\a&-3&0\\\\0&b&d\\end{pmatrix}$. Déterminez $a$, $b$ et $c$ pour que A soit une matrice orthogonale."
   ]
  },
  {
   "cell_type": "markdown",
   "metadata": {},
   "source": [
    "### Exercice 3\n",
    "\n",
    "\n",
    "Qu'est-ce que l'endomorphisme de $\\mathbb R^2$ d'expression analytique canonique\n",
    "\n",
    "$$\\left\\{\\begin{align*} x'&=&-\\frac{1}{5}x-\\frac{2}{5}y\\\\y'&=&\\frac{3}{5}x+\\frac{6}{5}y \\end{align*}\\right.$$\n",
    "\n",
    "                                           \n",
    "                                                      \n",
    "Vous aurez besoin de déterminer la matrice A associée, le noyau de A grâce à `kernel`,\n",
    "l'image avec `image`. Ensuite, à vous d'essayer des petits calculs sur A pour deviner sa nature.\n"
   ]
  },
  {
   "cell_type": "markdown",
   "metadata": {},
   "source": [
    "### Exercice 4\n",
    "\n",
    "\n",
    "Les chaînes de Markov sont issues de la théorie des probabilités et utilisent des outils d'algèbre linéaire qui nous intéressent aujourd'hui. Elles permettent de simuler des phénomènes aléatoires qui évoluent au cours du temps. Nous allons les découvrir à travers l'étude d'un exemple simple.\n",
    "\n",
    "Zlot, Brzxxz et Morzgniouf sont trois villes situées respectivement en Syldavie, Bordurie et Bouzoukstan. Des trafiquants de photos dédicacées du groupe ABBA prennent leur marchandise le matin dans n'importe laquelle  de ces villes pour l'apporter le soir dans n'importe quelle autre. On notera pour simplifier $V_1$, $V_2$ et $V_3$ ces villes et $p_{ij}$ la probabilité qu'une marchandise prise le matin dans la ville $V_i$ soit rendue le soir dans la ville $V_j$. La matrice $(p_{ij})_{{1\\leqslant i \\leqslant 3}\\atop {1\\leqslant j\\leqslant 3}}$ est appelée *matrice de transition* de la chaîne de Markov. Que s'attend-on à observer sur les colonnes d'une matrice de transition ?\n",
    "\n",
    "Supposons que $P$ soit connue et vaille $$P=\\begin{pmatrix} 0,8 &0,3 &0,2\\\\ 0,1&0,2&0,6\\\\ 0,1&0,5&0,2\\end{pmatrix}$$\n",
    "\n",
    "Les trafiquants se promenant de ville en ville, il peut être utile de visualiser leurs déplacements par le *diagramme de transition* qui est en fait un graphe orienté. Sauriez-vous le représenter?\n",
    "\n",
    "\n",
    "\n",
    "\n",
    "On notera $x_i^{(k)}$ la proportion de trafiquants qui se trouvent au matin du jour $k$ dans la ville $V_i$. En probabilités, on appelle \\textit{vecteur d'état} tout élément $(x_1,\\cdots,x_n)$ de $\\mathbb R^{+n}$ tel que $x_1+\\cdots+x_n=1$. \n",
    "\n",
    "Ainsi, $x^{(k)}=\\pa{ x_1^{(k)},x_2^{(k)},x_3^{(k)}}$ est un vecteur d'état.\n",
    "\n",
    "On montre que les vecteurs d'état de la chaîne sont liés par la relation\n",
    "\n",
    "$$x^{(k)}=P\\cdot x^{(k-1)}$$\n",
    "\n",
    "et donc\n",
    "\n",
    "$$x^{(k)}=P^k\\cdot x^{(0)}$$\n",
    "\n",
    "\n",
    "Supposons que le chef de la mafia locale dispose de 1000 trafiquants qui partent tous le matin du jour 0 de la ville de Zlot. Quelle sera la proportion de trafiquants dans chacune des villes au bout d'une semaine ? d'un mois ? d'un an ?\n",
    "\n",
    "\n",
    "Le parrain voudrait que la  proportion moyenne de trafiquants soit stable\n",
    "d'un  jour  sur l'autre.  Il  recherche  donc  les vecteurs  d'état  $x$\n",
    "vérifiant  l'équation  $P\\cdot  x=x$.  \n",
    "\n",
    "À quelle notion cela se ratache-t-il? Utiliser SageMath pour vous aider. Vous aurez sûrement besoin de vous renseigner sur `eigenvalues` et `eigenvectors_right`, `eigenspace_right`."
   ]
  },
  {
   "cell_type": "markdown",
   "metadata": {},
   "source": [
    "### Exercice 5\n",
    "\n",
    "À Morzgniouf, les jours sont soit secs, soit pluvieux. On désigne par $E_1$ l'état sec et $E_2$ l'état pluvieux et par $p_{ij}$ la probabilité qu'un jour soit dans l'état $E_i$ sachant que le jour précédent était dans l'état $E_j$. Les scientifiques Bouzouks ayant observé les phénomènes météorologiques des trent-deux dernières années à Morzgniouf ont établi la matrice de transition suivante\n",
    "\n",
    "$$P=\\begin{pmatrix} 0,750&0,338\\\\0,250&0,662\\end{pmatrix}$$\n",
    "\n",
    "Sachant qu'il fait beau aujourd'hui, quelle est la probabilité qu'il pleuve dans dix jours ?"
   ]
  },
  {
   "cell_type": "markdown",
   "metadata": {},
   "source": [
    "## Changement d'anneau"
   ]
  },
  {
   "cell_type": "code",
   "execution_count": 10,
   "metadata": {},
   "outputs": [],
   "source": [
    "A = matrix(GF(2),2,2,[1,1,0,1])"
   ]
  },
  {
   "cell_type": "code",
   "execution_count": 12,
   "metadata": {},
   "outputs": [
    {
     "data": {
      "text/plain": [
       "[1 1]\n",
       "[0 1]"
      ]
     },
     "execution_count": 12,
     "metadata": {},
     "output_type": "execute_result"
    }
   ],
   "source": [
    "A"
   ]
  },
  {
   "cell_type": "code",
   "execution_count": 13,
   "metadata": {},
   "outputs": [
    {
     "data": {
      "text/plain": [
       "[1 0]\n",
       "[0 1]"
      ]
     },
     "execution_count": 13,
     "metadata": {},
     "output_type": "execute_result"
    }
   ],
   "source": [
    "A^2"
   ]
  },
  {
   "cell_type": "code",
   "execution_count": 14,
   "metadata": {},
   "outputs": [
    {
     "data": {
      "text/plain": [
       "[0 0]\n",
       "[0 0]"
      ]
     },
     "execution_count": 14,
     "metadata": {},
     "output_type": "execute_result"
    }
   ],
   "source": [
    "A + A"
   ]
  },
  {
   "cell_type": "code",
   "execution_count": 15,
   "metadata": {},
   "outputs": [],
   "source": [
    "B = matrix(ZZ,2,2,[1,1,0,1])"
   ]
  },
  {
   "cell_type": "code",
   "execution_count": 16,
   "metadata": {},
   "outputs": [
    {
     "data": {
      "text/plain": [
       "[1 1]\n",
       "[0 1]"
      ]
     },
     "execution_count": 16,
     "metadata": {},
     "output_type": "execute_result"
    }
   ],
   "source": [
    "B"
   ]
  },
  {
   "cell_type": "code",
   "execution_count": 17,
   "metadata": {},
   "outputs": [
    {
     "data": {
      "text/plain": [
       "[1 2]\n",
       "[0 1]"
      ]
     },
     "execution_count": 17,
     "metadata": {},
     "output_type": "execute_result"
    }
   ],
   "source": [
    "B^2"
   ]
  },
  {
   "cell_type": "code",
   "execution_count": 18,
   "metadata": {},
   "outputs": [
    {
     "data": {
      "text/plain": [
       "[2 2]\n",
       "[0 2]"
      ]
     },
     "execution_count": 18,
     "metadata": {},
     "output_type": "execute_result"
    }
   ],
   "source": [
    "B + B"
   ]
  },
  {
   "cell_type": "code",
   "execution_count": 20,
   "metadata": {},
   "outputs": [
    {
     "data": {
      "text/plain": [
       "[1 1]\n",
       "[0 1]"
      ]
     },
     "execution_count": 20,
     "metadata": {},
     "output_type": "execute_result"
    }
   ],
   "source": [
    "A.inverse()"
   ]
  },
  {
   "cell_type": "code",
   "execution_count": 21,
   "metadata": {},
   "outputs": [
    {
     "data": {
      "text/plain": [
       "[ 1 -1]\n",
       "[ 0  1]"
      ]
     },
     "execution_count": 21,
     "metadata": {},
     "output_type": "execute_result"
    }
   ],
   "source": [
    "B.inverse()"
   ]
  },
  {
   "cell_type": "code",
   "execution_count": null,
   "metadata": {},
   "outputs": [],
   "source": []
  },
  {
   "cell_type": "code",
   "execution_count": null,
   "metadata": {},
   "outputs": [],
   "source": []
  },
  {
   "cell_type": "code",
   "execution_count": null,
   "metadata": {},
   "outputs": [],
   "source": []
  }
 ],
 "metadata": {
  "kernelspec": {
   "display_name": "SageMath 8.5",
   "language": "",
   "name": "sagemath"
  },
  "language_info": {
   "codemirror_mode": {
    "name": "ipython",
    "version": 2
   },
   "file_extension": ".py",
   "mimetype": "text/x-python",
   "name": "python",
   "nbconvert_exporter": "python",
   "pygments_lexer": "ipython2",
   "version": "2.7.15"
  }
 },
 "nbformat": 4,
 "nbformat_minor": 2
}
