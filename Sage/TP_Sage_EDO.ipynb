{
 "cells": [
  {
   "cell_type": "markdown",
   "metadata": {},
   "source": [
    "# Équations différentielles - Résolutions exactes \n",
    "\n",
    "Les équations différentielles ordinaires se résolvent souvent par approximations numériques comme nous le verrons plus tard.\n",
    "\n",
    "On    peut    préférer    résoudre   les    équations    différentielles\n",
    "exactement.  Sage  peut  alors  parfois  y  aider  en  donnant\n",
    "directement une réponse formelle comme nous le verrons dans ce chapitre\n",
    "\n",
    "Dans la plupart  des cas, il faudra passer par  une manipulation savante\n",
    "de  ces équations  pour aider  Sage. Il  faudra veiller\n",
    "à garder en tête  que la solution attendue  d'une équation\n",
    "différentielle  est   une  *fonction*  dérivable  sur   un  certain\n",
    "intervalle  mais que  Sage, lui,  manipule des *expressions* sans\n",
    "domaine de  définition. La machine  aura donc besoin  d'une intervention\n",
    "humaine pour aller vers une solution rigoureuse.\n",
    "\n",
    "On  rappelle qu'une  *équation  différentielle ordinaire*  (parfois\n",
    "notée EDO, ou ODE en anglais)\n",
    " est une équation faisant intervenir une fonction (inconnue) d’une seule\n",
    "variable, ainsi qu’une ou plusieurs dérivées, successives ou non, de la fonction.\n",
    "\n",
    "Dans l’équation $y'(x)+x\\cdot y(x)=\\sin(x)$\n",
    "la fonction inconnue $y$ est appelée la *variable dépendante* et  la variable $x$ (par\n",
    "rapport à laquelle $y$ varie) est appelée la *variable indépendante*.\n",
    "\n",
    "\n",
    "Une *équation aux dérivées\n",
    "partielles* (notée parfois EDP, ou PDE en anglais) fait intervenir\n",
    "plusieurs variables indépendantes\n",
    "ainsi que les dérivées partielles de la variable\n",
    "dépendante par rapport à ces variables indépendantes.\n",
    "\n",
    "Sauf mention contraire, **on considérera  dans ce chapitre des fonctions\n",
    "d'une variable réelle**.\n",
    "\n",
    "## Équations différentielles  ordinaires d'ordre  1\n",
    "\n",
    "### Commandes de base\n",
    "\n",
    "On voudrait résoudre une EDO d'ordre 1:\n",
    "$$F(x,y(x),y'(x))=0.$$\n",
    "\n",
    "On commence  par définir une variable  $x$ et une fonction  $y$ dépendant de\n",
    "  cette variable:"
   ]
  },
  {
   "cell_type": "code",
   "execution_count": 1,
   "metadata": {},
   "outputs": [],
   "source": [
    "x = var('x')\n",
    "y = function('y')(x)"
   ]
  },
  {
   "cell_type": "markdown",
   "metadata": {},
   "source": [
    "On utilise ensuite:\n",
    "```\n",
    "desolve(equation, variable, ics = ..., ivar = ..., show_method = ..., contrib_ode = ...)\n",
    "```\n",
    "* `equation` est l´EDO,l'égalité étant symbolisée par `==`\n",
    "\n",
    "par exemple  l'équation $y'=2y+x$  s'écrit `diff(y,x) == 2*y+x`\n",
    "\n",
    "* `variable` est le nom de la variable dépendante, c'est-à-dire\n",
    "  la fonction $y$ dans $y'=2y+x$~\n",
    "  \n",
    "* `ics` est  un  argument optionnel  qui  permet d'indiquer  des\n",
    "conditions initiales.  Pour  une équation du premier ordre,  on donne une\n",
    "liste  [$x_0$,$y_0$],   pour  les   équations  du  second   ordre  c'est\n",
    "[$x_0$,$y_0$,$x_1$,$y_1$] ou [$x_0$,$y_0$,$y'_0$]\n",
    "\n",
    "* `ivar` est un argument  optionnel qui permet de  préciser la\n",
    "variable  indépendante, c'est-à-dire  $x$ dans  $y'=2y+x$.  Cet argument\n",
    "doit absolument être précisé  en cas d'équations dépendant de paramètres\n",
    "comme par exemple $y'=ay+bx+c$\n",
    "\n",
    "* `show_method` est un argument optionnel  fixé à `False`\n",
    "par défaut.  Dans le  cas contraire,  il demande à  Sage de  préciser la\n",
    "méthode  de  résolution  utilisée.  Les  termes  anglais  renvoyés peuvent\n",
    "être\n",
    "`linear`,   `separable`,   `exact`,   `homogeneous`,\n",
    "`bernoulli`, `generalized homogeneous`. Sage renvoie alors une\n",
    "liste  dont  le premier  argument  est la  solution  et  le deuxième  la\n",
    "méthode\n",
    "\n",
    "* `contrib_ode` est un  argument optionnel  par défaut  fixé à\n",
    "`False`. Dans le cas contraire, `desolve` pourra s'occuper des\n",
    "équations de Riccati, Lagrange, Clairaut et d'autres cas pathologiques mais cela\n",
    "ralentit l'exécution.\n",
    "\n",
    "### Équations  du premier  ordre  pouvant  être résolues  directement par Sage\n",
    "\n",
    "Nous allons étudier dans cette section comment résoudre avecSage\n",
    "les équations linéaires,\n",
    "les équations à variables séparables,\n",
    "les équations de Bernoulli,\n",
    "les équations homogènes,\n",
    "les équations exactes,\n",
    "ainsi que\n",
    "les équations de Riccati, Lagrange et Clairaut.\n",
    "\n",
    "#### Équations linéaires\n",
    "\n",
    "Il s'agit d'équations du\n",
    "  type $$y'+P(x)y=Q(x),$$ où $P$ et $Q$ sont des fonctionscontinues sur des\n",
    "  intervalles donnés.\n"
   ]
  },
  {
   "cell_type": "code",
   "execution_count": 7,
   "metadata": {},
   "outputs": [
    {
     "data": {
      "text/html": [
       "<html><script type=\"math/tex; mode=display\">\\newcommand{\\Bold}[1]{\\mathbf{#1}}\\left[\\frac{1}{4} \\, {\\left(4 \\, C + e^{\\left(4 \\, x\\right)}\\right)} e^{\\left(-3 \\, x\\right)}, \\verb|linear|\\right]</script></html>"
      ],
      "text/plain": [
       "[1/4*(4*_C + e^(4*x))*e^(-3*x), 'linear']"
      ]
     },
     "execution_count": 7,
     "metadata": {},
     "output_type": "execute_result"
    }
   ],
   "source": [
    "%display latex\n",
    "x = var('x'); y = function('y')(x)\n",
    "desolve(diff(y,x) + 3*y == exp(x), y, show_method=True)"
   ]
  },
  {
   "cell_type": "markdown",
   "metadata": {},
   "source": [
    "#### Équations à variables séparables.\n",
    "\n",
    "Il s'agit d'équations du\n",
    "  type $$P(x)=y'Q(y),$$ où $P$ et $Q$ sont des fonctions continues sur des\n",
    "  intervalles donnés."
   ]
  },
  {
   "cell_type": "code",
   "execution_count": 5,
   "metadata": {},
   "outputs": [
    {
     "data": {
      "text/html": [
       "<html><script type=\"math/tex; mode=display\">\\newcommand{\\Bold}[1]{\\mathbf{#1}}\\left[\\frac{1}{2} \\, y\\left(x\\right)^{2} = \\frac{1}{2} \\, x^{2} + C, \\verb|separable|\\right]</script></html>"
      ],
      "text/plain": [
       "[1/2*y(x)^2 == 1/2*x^2 + _C, 'separable']"
      ]
     },
     "execution_count": 5,
     "metadata": {},
     "output_type": "execute_result"
    }
   ],
   "source": [
    "desolve(y*diff(y,x) == x, y, show_method=True)"
   ]
  },
  {
   "cell_type": "markdown",
   "metadata": {},
   "source": [
    "#### Équations de Bernoulli.\n",
    "\n",
    "Il s'agit d'équations du\n",
    "  type $$y'+P(x)y=Q(x)y^{\\alpha},$$ où $P$ et $Q$ sont des fonctions continues sur des\n",
    "  intervalles donnés et $\\alpha\\not\\in \\bigl\\{ 0, 1 \\bigr\\}$.\n",
    "  \n",
    "  Exemple:  $y'-y=xy^4$."
   ]
  },
  {
   "cell_type": "code",
   "execution_count": 6,
   "metadata": {},
   "outputs": [
    {
     "data": {
      "text/html": [
       "<html><script type=\"math/tex; mode=display\">\\newcommand{\\Bold}[1]{\\mathbf{#1}}\\left[\\frac{e^{x}}{{\\left(-\\frac{1}{3} \\, {\\left(3 \\, x - 1\\right)} e^{\\left(3 \\, x\\right)} + C\\right)}^{\\frac{1}{3}}}, \\verb|bernoulli|\\right]</script></html>"
      ],
      "text/plain": [
       "[e^x/(-1/3*(3*x - 1)*e^(3*x) + _C)^(1/3), 'bernoulli']"
      ]
     },
     "execution_count": 6,
     "metadata": {},
     "output_type": "execute_result"
    }
   ],
   "source": [
    "desolve(diff(y,x)-y == x*y^4, y, show_method=True)"
   ]
  },
  {
   "cell_type": "markdown",
   "metadata": {},
   "source": [
    "#### Équations homogènes.\n",
    "\n",
    "Il s'agit d'équations du\n",
    "  type  $$y'=\\frac{P(x,y)}{Q(x,y)},$$  où  $P$  et $Q$ sont des  fonctions\n",
    "  homogènes de même degré sur des\n",
    "  intervalles donnés.\n",
    "  \n",
    "  Par exemple  $x^2y'=y^2+xy+x^2$."
   ]
  },
  {
   "cell_type": "code",
   "execution_count": 8,
   "metadata": {},
   "outputs": [
    {
     "data": {
      "text/html": [
       "<html><script type=\"math/tex; mode=display\">\\newcommand{\\Bold}[1]{\\mathbf{#1}}\\left[C x = e^{\\arctan\\left(\\frac{y\\left(x\\right)}{x}\\right)}, \\verb|homogeneous|\\right]</script></html>"
      ],
      "text/plain": [
       "[_C*x == e^(arctan(y(x)/x)), 'homogeneous']"
      ]
     },
     "execution_count": 8,
     "metadata": {},
     "output_type": "execute_result"
    }
   ],
   "source": [
    " desolve(x^2*diff(y,x) == y^2+x*y+x^2, y, show_method=True)"
   ]
  },
  {
   "cell_type": "markdown",
   "metadata": {},
   "source": [
    "Les solutions  ne sont  pas données de  manière explicite.  Nous verrons\n",
    "  plus loin comment se débrouiller dans certains cas."
   ]
  },
  {
   "cell_type": "markdown",
   "metadata": {},
   "source": [
    "### Exemples classiques\n",
    "\n",
    "#### Équation linéaire\n",
    "\n",
    "Résolvons par exemple $y'+2y=x^2-2x+3$:"
   ]
  },
  {
   "cell_type": "code",
   "execution_count": 16,
   "metadata": {},
   "outputs": [
    {
     "data": {
      "text/html": [
       "<html><script type=\"math/tex; mode=display\">\\newcommand{\\Bold}[1]{\\mathbf{#1}}\\frac{1}{4} \\, {\\left({\\left(2 \\, x^{2} - 2 \\, x + 1\\right)} e^{\\left(2 \\, x\\right)} - 2 \\, {\\left(2 \\, x - 1\\right)} e^{\\left(2 \\, x\\right)} + 4 \\, C + 6 \\, e^{\\left(2 \\, x\\right)}\\right)} e^{\\left(-2 \\, x\\right)}</script></html>"
      ],
      "text/plain": [
       "1/4*((2*x^2 - 2*x + 1)*e^(2*x) - 2*(2*x - 1)*e^(2*x) + 4*_C + 6*e^(2*x))*e^(-2*x)"
      ]
     },
     "execution_count": 16,
     "metadata": {},
     "output_type": "execute_result"
    }
   ],
   "source": [
    "DE = diff(y,x)+2*y == x**2-2*x+3\n",
    "desolve(DE, y)"
   ]
  },
  {
   "cell_type": "markdown",
   "metadata": {},
   "source": [
    "Ordonnons un peu tout ça avec la commande `expand`"
   ]
  },
  {
   "cell_type": "code",
   "execution_count": 17,
   "metadata": {},
   "outputs": [
    {
     "data": {
      "text/html": [
       "<html><script type=\"math/tex; mode=display\">\\newcommand{\\Bold}[1]{\\mathbf{#1}}\\frac{1}{2} \\, x^{2} + C e^{\\left(-2 \\, x\\right)} - \\frac{3}{2} \\, x + \\frac{9}{4}</script></html>"
      ],
      "text/plain": [
       "1/2*x^2 + _C*e^(-2*x) - 3/2*x + 9/4"
      ]
     },
     "execution_count": 17,
     "metadata": {},
     "output_type": "execute_result"
    }
   ],
   "source": [
    "desolve(DE, y).expand()"
   ]
  },
  {
   "cell_type": "markdown",
   "metadata": {},
   "source": [
    "Ajoutons des conditions initiales, par exemple $y(0)=1$:"
   ]
  },
  {
   "cell_type": "code",
   "execution_count": 18,
   "metadata": {},
   "outputs": [
    {
     "data": {
      "text/html": [
       "<html><script type=\"math/tex; mode=display\">\\newcommand{\\Bold}[1]{\\mathbf{#1}}\\frac{1}{2} \\, x^{2} - \\frac{3}{2} \\, x - \\frac{5}{4} \\, e^{\\left(-2 \\, x\\right)} + \\frac{9}{4}</script></html>"
      ],
      "text/plain": [
       "1/2*x^2 - 3/2*x - 5/4*e^(-2*x) + 9/4"
      ]
     },
     "execution_count": 18,
     "metadata": {},
     "output_type": "execute_result"
    }
   ],
   "source": [
    "desolve(DE, y, ics=[0,1]).expand()"
   ]
  },
  {
   "cell_type": "markdown",
   "metadata": {},
   "source": [
    "#### Équations à variables séparables\n",
    "\n",
    "Étudions l'équation $y'\\log(y)=y\\sin(x)$:"
   ]
  },
  {
   "cell_type": "code",
   "execution_count": 28,
   "metadata": {},
   "outputs": [
    {
     "data": {
      "text/html": [
       "<html><script type=\"math/tex; mode=display\">\\newcommand{\\Bold}[1]{\\mathbf{#1}}\\frac{1}{2} \\, \\log\\left(y\\left(x\\right)\\right)^{2} = C - \\cos\\left(x\\right)</script></html>"
      ],
      "text/plain": [
       "1/2*log(y(x))^2 == _C - cos(x)"
      ]
     },
     "execution_count": 28,
     "metadata": {},
     "output_type": "execute_result"
    }
   ],
   "source": [
    "ed = desolve(diff(y,x)*log(y) == y*sin(x), y)\n",
    "ed"
   ]
  },
  {
   "cell_type": "markdown",
   "metadata": {},
   "source": [
    "Ici $y(x)$ n'est pas donné de manière explicite. On peut demander une expression  de $y(x)$ en utilisant `solve`. On\n",
    "fera attention à la nature de `ed` et de `y`:"
   ]
  },
  {
   "cell_type": "code",
   "execution_count": 29,
   "metadata": {},
   "outputs": [
    {
     "data": {
      "text/html": [
       "<html><script type=\"math/tex; mode=display\">\\newcommand{\\Bold}[1]{\\mathbf{#1}}\\left[y\\left(x\\right) = e^{\\left(-\\sqrt{2 \\, C - 2 \\, \\cos\\left(x\\right)}\\right)}, y\\left(x\\right) = e^{\\left(\\sqrt{2 \\, C - 2 \\, \\cos\\left(x\\right)}\\right)}\\right]</script></html>"
      ],
      "text/plain": [
       "[y(x) == e^(-sqrt(2*_C - 2*cos(x))), y(x) == e^(sqrt(2*_C - 2*cos(x)))]"
      ]
     },
     "execution_count": 29,
     "metadata": {},
     "output_type": "execute_result"
    }
   ],
   "source": [
    "solve(ed, y)"
   ]
  },
  {
   "cell_type": "markdown",
   "metadata": {},
   "source": [
    "Pour avoir l'allure des courbes des solutions, il nous faut récupérer le\n",
    "membre de droite  de chaque solution avec la  commande `rhs()`. Par\n",
    "exemple, pour  obtenir le  membre de droite  de la première  solution en\n",
    "remplaçant $\\_C$ par 5:"
   ]
  },
  {
   "cell_type": "code",
   "execution_count": 30,
   "metadata": {},
   "outputs": [
    {
     "ename": "NameError",
     "evalue": "name '_C' is not defined",
     "output_type": "error",
     "traceback": [
      "\u001b[0;31m---------------------------------------------------------------------------\u001b[0m",
      "\u001b[0;31mNameError\u001b[0m                                 Traceback (most recent call last)",
      "\u001b[0;32m<ipython-input-30-28f884e66a76>\u001b[0m in \u001b[0;36m<module>\u001b[0;34m()\u001b[0m\n\u001b[0;32m----> 1\u001b[0;31m \u001b[0msolve\u001b[0m\u001b[0;34m(\u001b[0m\u001b[0med\u001b[0m\u001b[0;34m,\u001b[0m \u001b[0my\u001b[0m\u001b[0;34m)\u001b[0m\u001b[0;34m[\u001b[0m\u001b[0mInteger\u001b[0m\u001b[0;34m(\u001b[0m\u001b[0;36m0\u001b[0m\u001b[0;34m)\u001b[0m\u001b[0;34m]\u001b[0m\u001b[0;34m.\u001b[0m\u001b[0msubstitute\u001b[0m\u001b[0;34m(\u001b[0m\u001b[0m_C\u001b[0m\u001b[0;34m==\u001b[0m\u001b[0mInteger\u001b[0m\u001b[0;34m(\u001b[0m\u001b[0;36m5\u001b[0m\u001b[0;34m)\u001b[0m\u001b[0;34m)\u001b[0m\u001b[0;34m.\u001b[0m\u001b[0mrhs\u001b[0m\u001b[0;34m(\u001b[0m\u001b[0;34m)\u001b[0m\u001b[0;34m\u001b[0m\u001b[0m\n\u001b[0m",
      "\u001b[0;31mNameError\u001b[0m: name '_C' is not defined"
     ]
    }
   ],
   "source": [
    " solve(ed, y)[0].substitute(_C==5).rhs()"
   ]
  },
  {
   "cell_type": "markdown",
   "metadata": {},
   "source": [
    "En effet, nous n'avons pas défini\n",
    "$\\_C$: c'est Sage qui l'a\n",
    "introduit. Pour  accéder à $\\_C$, nous pouvons utiliser `variables()`\n",
    "qui donne la liste des variables d'une expression:"
   ]
  },
  {
   "cell_type": "code",
   "execution_count": 31,
   "metadata": {},
   "outputs": [
    {
     "data": {
      "text/html": [
       "<html><script type=\"math/tex; mode=display\">\\newcommand{\\Bold}[1]{\\mathbf{#1}}\\left(C, x\\right)</script></html>"
      ],
      "text/plain": [
       "(_C, x)"
      ]
     },
     "execution_count": 31,
     "metadata": {},
     "output_type": "execute_result"
    }
   ],
   "source": [
    "ed.variables()"
   ]
  },
  {
   "cell_type": "markdown",
   "metadata": {},
   "source": [
    "Seules  $\\_C$ et  $x$ sont  considérées comme  des variables  car $y$  a été\n",
    "défini comme une fonction de la variable $x$.\n",
    "On accède donc à $c$ avec `ed.variables()[0]`:"
   ]
  },
  {
   "cell_type": "code",
   "execution_count": 33,
   "metadata": {},
   "outputs": [
    {
     "data": {
      "text/html": [
       "<html><script type=\"math/tex; mode=display\">\\newcommand{\\Bold}[1]{\\mathbf{#1}}e^{\\left(-\\sqrt{-2 \\, \\cos\\left(x\\right) + 10}\\right)}</script></html>"
      ],
      "text/plain": [
       "e^(-sqrt(-2*cos(x) + 10))"
      ]
     },
     "execution_count": 33,
     "metadata": {},
     "output_type": "execute_result"
    }
   ],
   "source": [
    "c = ed.variables()[0]\n",
    "solve(ed, y)[0].substitute(c == 5).rhs()"
   ]
  },
  {
   "cell_type": "markdown",
   "metadata": {},
   "source": [
    " Pour avoir le tracé de la première solution avec $\\_C=2$:"
   ]
  },
  {
   "cell_type": "code",
   "execution_count": 34,
   "metadata": {},
   "outputs": [
    {
     "data": {
      "image/png": "[encoded data removed]",
      "text/plain": [
       "Graphics object consisting of 1 graphics primitive"
      ]
     },
     "execution_count": 34,
     "metadata": {},
     "output_type": "execute_result"
    }
   ],
   "source": [
    "plot(solve(ed, y)[0].substitute(c == 2).rhs(), x, -3, 3)"
   ]
  },
  {
   "cell_type": "code",
   "execution_count": 35,
   "metadata": {},
   "outputs": [],
   "source": [
    "P = Graphics()\n",
    "for k in range(1,20,2):\n",
    "    P += plot(solve(ed, y)[0].substitute(c==1+k/4).rhs(), x, -3, 3)"
   ]
  },
  {
   "cell_type": "code",
   "execution_count": 36,
   "metadata": {},
   "outputs": [
    {
     "data": {
      "image/png": "[encoded data removed]",
      "text/plain": [
       "Graphics object consisting of 10 graphics primitives"
      ]
     },
     "execution_count": 36,
     "metadata": {},
     "output_type": "execute_result"
    }
   ],
   "source": [
    "P"
   ]
  },
  {
   "cell_type": "code",
   "execution_count": 37,
   "metadata": {},
   "outputs": [
    {
     "data": {
      "image/png": "[encoded data removed]",
      "text/plain": [
       "Graphics object consisting of 10 graphics primitives"
      ]
     },
     "execution_count": 37,
     "metadata": {},
     "output_type": "execute_result"
    }
   ],
   "source": [
    "P = Graphics()\n",
    "for j in [0,1]:\n",
    "    for k in range(1,10,2):\n",
    "        f = solve(ed,y)[j].substitute(c==2+0.25*k).rhs()\n",
    "        P += plot(f, x, -3, 3)\n",
    "P"
   ]
  },
  {
   "cell_type": "markdown",
   "metadata": {},
   "source": [
    "## Exercice\n",
    "\n",
    "Résolvez dans $\\R$ les équations à variables séparables suivantes:\n",
    "1. $(E_1):~\\frac{yy'}{\\sqrt{1+y^2}}=\\sin(x)$\n",
    "2. $(E_2):~y'=\\frac{\\sin(x)}{\\cos(y)}$"
   ]
  },
  {
   "cell_type": "markdown",
   "metadata": {},
   "source": [
    "## Systèmes différentiels linéaires\n",
    "\n",
    "On veut résoudre le système différentiel suivant:\n",
    "\n",
    "$$\n",
    "\\begin{cases}\n",
    "    y'(x)=A\\cdot y(x), \\\\\n",
    "    y(0)=c\n",
    "  \\end{cases}\n",
    "$$\n",
    "\n",
    "avec\n",
    "\n",
    "$$\n",
    "\\begin{align*}\n",
    "  A&=\\begin{bmatrix} 2&-2&0\\\\-2&0&2\\\\0&2&2\\end{bmatrix}, &\n",
    "  y(x)&=\n",
    "  \\begin{bmatrix}\n",
    "    y_1(x)\\\\y_2(x)\\\\y_3(x)\n",
    "  \\end{bmatrix}, &\n",
    "  c&=\n",
    "  \\begin{bmatrix}\n",
    "    2\\\\1\\\\-2\n",
    "  \\end{bmatrix}.\n",
    "\\end{align*}\n",
    "$$\n",
    "\n"
   ]
  },
  {
   "cell_type": "code",
   "execution_count": 38,
   "metadata": {},
   "outputs": [
    {
     "data": {
      "text/html": [
       "<html><script type=\"math/tex; mode=display\">\\newcommand{\\Bold}[1]{\\mathbf{#1}}\\left[y_{1}\\left(x\\right) = e^{\\left(4 \\, x\\right)} + e^{\\left(-2 \\, x\\right)}, y_{2}\\left(x\\right) = -e^{\\left(4 \\, x\\right)} + 2 \\, e^{\\left(-2 \\, x\\right)}, y_{3}\\left(x\\right) = -e^{\\left(4 \\, x\\right)} - e^{\\left(-2 \\, x\\right)}\\right]</script></html>"
      ],
      "text/plain": [
       "[y1(x) == e^(4*x) + e^(-2*x),\n",
       " y2(x) == -e^(4*x) + 2*e^(-2*x),\n",
       " y3(x) == -e^(4*x) - e^(-2*x)]"
      ]
     },
     "execution_count": 38,
     "metadata": {},
     "output_type": "execute_result"
    }
   ],
   "source": [
    "x = var('x') \n",
    "y1 = function('y1')(x)\n",
    "y2 = function('y2')(x) \n",
    "y3 = function('y3')(x)\n",
    "y = vector([y1, y2, y3])\n",
    "A = matrix([[2,-2,0],[-2,0,2],[0,2,2]])\n",
    "system = [diff(y[i], x) - (A * y)[i] for i in range(3)]\n",
    "desolve_system(system, [y1, y2, y3], ics=[0,2,1,-2])"
   ]
  },
  {
   "cell_type": "markdown",
   "metadata": {},
   "source": [
    "## Exercice\n",
    "\n",
    "Menez l'enquête sur le modèle de Lokta-Voltera"
   ]
  },
  {
   "cell_type": "code",
   "execution_count": null,
   "metadata": {},
   "outputs": [],
   "source": []
  }
 ],
 "metadata": {
  "kernelspec": {
   "display_name": "SageMath 8.5",
   "language": "",
   "name": "sagemath"
  },
  "language_info": {
   "codemirror_mode": {
    "name": "ipython",
    "version": 2
   },
   "file_extension": ".py",
   "mimetype": "text/x-python",
   "name": "python",
   "nbconvert_exporter": "python",
   "pygments_lexer": "ipython2",
   "version": "2.7.15"
  }
 },
 "nbformat": 4,
 "nbformat_minor": 2
}
