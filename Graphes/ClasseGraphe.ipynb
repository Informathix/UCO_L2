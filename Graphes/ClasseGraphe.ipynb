{
 "cells": [
  {
   "cell_type": "markdown",
   "metadata": {},
   "source": [
    "# Classe Graphe\n",
    "\n",
    "Voici le squelette de la classe Graphe que vous allez compléter au fur et à mesure de notre apprentissage."
   ]
  },
  {
   "cell_type": "code",
   "execution_count": 65,
   "metadata": {},
   "outputs": [],
   "source": [
    "from graphviz import Graph\n",
    "from dataclasses import dataclass\n",
    "from typing import Dict, Set\n",
    " \n",
    " \n",
    "@dataclass\n",
    "class Graphe:\n",
    "        \"\"\"\n",
    "        On définit un graphe à l'aide du dictionnaire des adjacents\n",
    "        Par exemple :\n",
    "        g = Graphe({{'1': {'2', '4', '3'}, '2': {'3'}, '3': {'4'}}})\n",
    "        \"\"\"\n",
    "        dict_adj: Dict[str, Set[str]]\n",
    "                \n",
    "        def sommets(self) -> Set[str]:\n",
    "                \"\"\"\n",
    "                Donne l'ensemble des sommets\n",
    "                \"\"\"\n",
    "                s = set(self.dict_adj.keys())\n",
    "                for v in self.dict_adj.values():\n",
    "                                s |= v\n",
    "                return s\n",
    "        \n",
    "        def adjacents(self, a):\n",
    "                \"\"\"\n",
    "                Méthode pour avoir l'ensemble des adjacents d'un sommet\n",
    "                \"\"\"\n",
    "                s = set([])\n",
    "                if a in self.sommets():\n",
    "                        if a in self.dict_adj:\n",
    "                                s = set(self.dict_adj[a])\n",
    "                        for v in self.dict_adj:\n",
    "                                if a in self.dict_adj[v]:\n",
    "                                        s |= {v}\n",
    "                return s\n",
    "        \n",
    "        def __repr__(self):\n",
    "                \"\"\" Affichage dans le terminal\"\"\"\n",
    "                r = ''\n",
    "                for v in sorted(list(self.sommets())):\n",
    "                        r += ('\\t' + v + ' -> { ')\n",
    "                        for u in sorted(list(self.adjacents(v))):\n",
    "                                r += (u + ' ')\n",
    "                        r += '}\\n'\n",
    "                return r\n",
    "                \n",
    "        def dot(self, name: str = 'graphe') -> None:\n",
    "                \"\"\"\n",
    "                Sortie graphique, ici au format PNG, à l'aide de Graphviz\n",
    "                \"\"\"\n",
    "                d = Graph()\n",
    "                d.node_attr.update(style='filled', color=\"#00ff005f\")\n",
    "                for v in self.dict_adj:\n",
    "                        d.node(v)\n",
    "                        for u in self.dict_adj[v]:\n",
    "                                d.edge(v, u)\n",
    "                d.render(name, view=True)#, format='png')"
   ]
  },
  {
   "cell_type": "code",
   "execution_count": 66,
   "metadata": {},
   "outputs": [],
   "source": [
    "g = Graphe({'1': {'2', '4', '3'}, '2': {'3'}, '3': {'4'}})"
   ]
  },
  {
   "cell_type": "code",
   "execution_count": 67,
   "metadata": {},
   "outputs": [
    {
     "data": {
      "text/plain": [
       "\t1 -> { 2 3 4 }\n",
       "\t2 -> { 1 3 }\n",
       "\t3 -> { 1 2 4 }\n",
       "\t4 -> { 1 3 }"
      ]
     },
     "execution_count": 67,
     "metadata": {},
     "output_type": "execute_result"
    }
   ],
   "source": [
    "g"
   ]
  },
  {
   "cell_type": "code",
   "execution_count": 68,
   "metadata": {},
   "outputs": [],
   "source": [
    "g.dot('graphe1')"
   ]
  },
  {
   "cell_type": "markdown",
   "metadata": {},
   "source": [
    "### Exercice 1\n",
    "\n",
    "Ajoutez une méthode `degre(self, a)` qui renvoie le degré d'un sommet `a` dans le graphe `self`. Vous pourrez regarder l'aide de `len` "
   ]
  },
  {
   "cell_type": "code",
   "execution_count": 69,
   "metadata": {},
   "outputs": [
    {
     "data": {
      "text/plain": [
       "\u001b[0;31mSignature:\u001b[0m \u001b[0mlen\u001b[0m\u001b[0;34m(\u001b[0m\u001b[0mobj\u001b[0m\u001b[0;34m,\u001b[0m \u001b[0;34m/\u001b[0m\u001b[0;34m)\u001b[0m\u001b[0;34m\u001b[0m\u001b[0m\n",
       "\u001b[0;31mDocstring:\u001b[0m Return the number of items in a container.\n",
       "\u001b[0;31mType:\u001b[0m      builtin_function_or_method\n"
      ]
     },
     "metadata": {},
     "output_type": "display_data"
    }
   ],
   "source": [
    "?len"
   ]
  },
  {
   "cell_type": "code",
   "execution_count": null,
   "metadata": {},
   "outputs": [],
   "source": []
  },
  {
   "cell_type": "markdown",
   "metadata": {},
   "source": [
    "### Exercice 2\n",
    "\n",
    "Ajoutez une méthode `score(self)` qui renvoie le score d'un graphe `self` sous la forme d'un ensemble (`set`)"
   ]
  },
  {
   "cell_type": "code",
   "execution_count": 70,
   "metadata": {},
   "outputs": [
    {
     "data": {
      "text/plain": [
       "\u001b[0;31mInit signature:\u001b[0m \u001b[0mset\u001b[0m\u001b[0;34m(\u001b[0m\u001b[0mself\u001b[0m\u001b[0;34m,\u001b[0m \u001b[0;34m/\u001b[0m\u001b[0;34m,\u001b[0m \u001b[0;34m*\u001b[0m\u001b[0margs\u001b[0m\u001b[0;34m,\u001b[0m \u001b[0;34m**\u001b[0m\u001b[0mkwargs\u001b[0m\u001b[0;34m)\u001b[0m\u001b[0;34m\u001b[0m\u001b[0m\n",
       "\u001b[0;31mDocstring:\u001b[0m     \n",
       "set() -> new empty set object\n",
       "set(iterable) -> new set object\n",
       "\n",
       "Build an unordered collection of unique elements.\n",
       "\u001b[0;31mType:\u001b[0m           type\n"
      ]
     },
     "metadata": {},
     "output_type": "display_data"
    }
   ],
   "source": [
    "?set"
   ]
  },
  {
   "cell_type": "code",
   "execution_count": null,
   "metadata": {},
   "outputs": [],
   "source": []
  },
  {
   "cell_type": "markdown",
   "metadata": {},
   "source": [
    "### Exercice 3\n",
    "\n",
    "Ajoutez une méthode `est_isole(self, a)` qui teste si un sommet `a` est isolé dans le graphe `self`."
   ]
  },
  {
   "cell_type": "code",
   "execution_count": null,
   "metadata": {},
   "outputs": [],
   "source": []
  },
  {
   "cell_type": "markdown",
   "metadata": {},
   "source": [
    "### Exercice 4\n",
    "\n",
    "Créez une fonction `complet(n)` qui crée un graphe complet d'ordre `n`. Créez une fonction `roue(n)` qui crée une roue d'ordre `n`. Créez une fonction `cube(n)` qui crée un $n$-cube"
   ]
  },
  {
   "cell_type": "code",
   "execution_count": null,
   "metadata": {},
   "outputs": [],
   "source": []
  },
  {
   "cell_type": "markdown",
   "metadata": {},
   "source": [
    "### Exercice 5\n",
    "\n",
    "Créez une fonction `rand_graph(n)` qui crée un graphe de `n` sommets aléatoirement. On pourra utiliser les fonctions `randint` et `sample` du module `random`.\n"
   ]
  },
  {
   "cell_type": "code",
   "execution_count": 71,
   "metadata": {},
   "outputs": [
    {
     "data": {
      "text/plain": [
       "\u001b[0;31mSignature:\u001b[0m \u001b[0msample\u001b[0m\u001b[0;34m(\u001b[0m\u001b[0mpopulation\u001b[0m\u001b[0;34m,\u001b[0m \u001b[0mk\u001b[0m\u001b[0;34m)\u001b[0m\u001b[0;34m\u001b[0m\u001b[0m\n",
       "\u001b[0;31mDocstring:\u001b[0m\n",
       "Chooses k unique random elements from a population sequence or set.\n",
       "\n",
       "Returns a new list containing elements from the population while\n",
       "leaving the original population unchanged.  The resulting list is\n",
       "in selection order so that all sub-slices will also be valid random\n",
       "samples.  This allows raffle winners (the sample) to be partitioned\n",
       "into grand prize and second place winners (the subslices).\n",
       "\n",
       "Members of the population need not be hashable or unique.  If the\n",
       "population contains repeats, then each occurrence is a possible\n",
       "selection in the sample.\n",
       "\n",
       "To choose a sample in a range of integers, use range as an argument.\n",
       "This is especially fast and space efficient for sampling from a\n",
       "large population:   sample(range(10000000), 60)\n",
       "\u001b[0;31mFile:\u001b[0m      ~/anaconda3/lib/python3.7/random.py\n",
       "\u001b[0;31mType:\u001b[0m      method\n"
      ]
     },
     "metadata": {},
     "output_type": "display_data"
    }
   ],
   "source": [
    "from random import sample, randint\n",
    "\n",
    "?sample"
   ]
  },
  {
   "cell_type": "code",
   "execution_count": null,
   "metadata": {},
   "outputs": [],
   "source": []
  },
  {
   "cell_type": "code",
   "execution_count": 72,
   "metadata": {},
   "outputs": [
    {
     "data": {
      "text/plain": [
       "\u001b[0;31mSignature:\u001b[0m \u001b[0mrandint\u001b[0m\u001b[0;34m(\u001b[0m\u001b[0ma\u001b[0m\u001b[0;34m,\u001b[0m \u001b[0mb\u001b[0m\u001b[0;34m)\u001b[0m\u001b[0;34m\u001b[0m\u001b[0m\n",
       "\u001b[0;31mDocstring:\u001b[0m\n",
       "Return random integer in range [a, b], including both end points.\n",
       "        \n",
       "\u001b[0;31mFile:\u001b[0m      ~/anaconda3/lib/python3.7/random.py\n",
       "\u001b[0;31mType:\u001b[0m      method\n"
      ]
     },
     "metadata": {},
     "output_type": "display_data"
    }
   ],
   "source": [
    "?randint"
   ]
  },
  {
   "cell_type": "markdown",
   "metadata": {},
   "source": [
    "Vous pourrez utiliser la construction par compréhension, par exemple:"
   ]
  },
  {
   "cell_type": "code",
   "execution_count": 73,
   "metadata": {},
   "outputs": [
    {
     "data": {
      "text/plain": [
       "['0', '1', '2', '3', '4', '5', '6', '7', '8', '9']"
      ]
     },
     "execution_count": 73,
     "metadata": {},
     "output_type": "execute_result"
    }
   ],
   "source": [
    "[str(k) for k in range(10)]"
   ]
  },
  {
   "cell_type": "code",
   "execution_count": null,
   "metadata": {},
   "outputs": [],
   "source": []
  },
  {
   "cell_type": "code",
   "execution_count": null,
   "metadata": {},
   "outputs": [],
   "source": []
  },
  {
   "cell_type": "code",
   "execution_count": 74,
   "metadata": {},
   "outputs": [
    {
     "data": {
      "text/plain": [
       "\t0 -> { 1 2 3 4 }\n",
       "\t1 -> { 0 1 3 4 }\n",
       "\t2 -> { 0 4 }\n",
       "\t3 -> { 0 1 3 4 }\n",
       "\t4 -> { 0 1 2 3 }"
      ]
     },
     "execution_count": 74,
     "metadata": {},
     "output_type": "execute_result"
    }
   ],
   "source": [
    "rand_graph(5)"
   ]
  },
  {
   "cell_type": "markdown",
   "metadata": {},
   "source": [
    "### Exercice 6\n",
    "\n",
    "Vérifiez sur des graphes aléatoires le théorème des poignées de main. Pour tester la parité, on pourra utiliser l'opérateur `%`"
   ]
  },
  {
   "cell_type": "markdown",
   "metadata": {},
   "source": [
    "### Exercice 7\n",
    "\n",
    "Créez une méthode `est_regulier` qui vérifie si un graphe est régulier. "
   ]
  },
  {
   "cell_type": "code",
   "execution_count": null,
   "metadata": {},
   "outputs": [],
   "source": []
  },
  {
   "cell_type": "code",
   "execution_count": null,
   "metadata": {},
   "outputs": [],
   "source": []
  }
 ],
 "metadata": {
  "kernelspec": {
   "display_name": "Python 3",
   "language": "python",
   "name": "python3"
  },
  "language_info": {
   "codemirror_mode": {
    "name": "ipython",
    "version": 3
   },
   "file_extension": ".py",
   "mimetype": "text/x-python",
   "name": "python",
   "nbconvert_exporter": "python",
   "pygments_lexer": "ipython3",
   "version": "3.7.0"
  }
 },
 "nbformat": 4,
 "nbformat_minor": 2
}
