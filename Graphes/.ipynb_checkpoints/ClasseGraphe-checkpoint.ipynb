{
 "cells": [
  {
   "cell_type": "markdown",
   "metadata": {},
   "source": [
    "# Classe Graphe\n",
    "\n",
    "Voici le squelette de la classe Graphe que vous allez compléter au fur et à mesure de notre apprentissage."
   ]
  },
  {
   "cell_type": "code",
   "execution_count": 2,
   "metadata": {},
   "outputs": [],
   "source": [
    "from graphviz import Graph\n",
    "from dataclasses import dataclass\n",
    "from typing import Dict, Set, List\n",
    " \n",
    " \n",
    "@dataclass\n",
    "class Graphe:\n",
    "        \"\"\"\n",
    "        On définit un graphe à l'aide du dictionnaire des adjacents\n",
    "        Par exemple :\n",
    "        g = Graphe({'1': {'2', '4', '3'}, '2': {'3'}, '3': {'4'}})\n",
    "        \"\"\"\n",
    "        dict_adj: Dict[str, Set[str]]\n",
    "                \n",
    "        def sommets(self) -> Set[str]:\n",
    "                \"\"\"\n",
    "                Donne l'ensemble des sommets\n",
    "                \"\"\"\n",
    "                s = set(self.dict_adj.keys())\n",
    "                for v in self.dict_adj.values():\n",
    "                                s |= v\n",
    "                return s\n",
    "        \n",
    "        def adjacents(self, a: str) -> Set[str]:\n",
    "                \"\"\"\n",
    "                Méthode pour avoir l'ensemble des adjacents d'un sommet\n",
    "                \"\"\"\n",
    "                s = set([])\n",
    "                if a in self.sommets():\n",
    "                        if a in self.dict_adj:\n",
    "                                s = set(self.dict_adj[a])\n",
    "                        for v in self.dict_adj:\n",
    "                                if a in self.dict_adj[v]:\n",
    "                                        s |= {v}\n",
    "                return s\n",
    "        \n",
    "        def __repr__(self) -> str:\n",
    "                \"\"\" Affichage dans le terminal\"\"\"\n",
    "                r = ''\n",
    "                for v in sorted(list(self.sommets())):\n",
    "                        r += ('\\t' + v + ' -> { ')\n",
    "                        for u in sorted(list(self.adjacents(v))):\n",
    "                                r += (u + ' ')\n",
    "                        r += '}\\n'\n",
    "                return r\n",
    "            \n",
    "        def degre(self, s: str) -> int :\n",
    "            \"\"\"\n",
    "            Renvoie le nombre de sommets adjacents au sommet s dans le graphe g\n",
    "            \"\"\"\n",
    "            return len(g.adjacents(s))\n",
    "        \n",
    "        def score(self) -> List[int]:\n",
    "            sc = []\n",
    "            # to sort : trier\n",
    "            for s in sorted(list(self.sommets())):\n",
    "                sc.append(self.degre(s))\n",
    "            return sc\n",
    "            \n",
    "        def dot(self, name: str = 'graphe') -> None:\n",
    "                \"\"\"\n",
    "                Sortie graphique, ici au format PNG, à l'aide de Graphviz\n",
    "                \"\"\"\n",
    "                d = Graph()\n",
    "                d.node_attr.update(style='filled', color=\"#00ff005f\")\n",
    "                for v in self.sommets():\n",
    "                        d.node(v)\n",
    "                        for u in self.adjacents():\n",
    "                                if u > v:\n",
    "                                        d.edge(v, u)\n",
    "                d.render(name, view=True)#, format='png')\n"
   ]
  },
  {
   "cell_type": "code",
   "execution_count": 3,
   "metadata": {},
   "outputs": [],
   "source": [
    "g = Graphe({'1': {'2', '4', '3'}, '2': {'3'}, '3': {'4'}})"
   ]
  },
  {
   "cell_type": "code",
   "execution_count": 4,
   "metadata": {},
   "outputs": [
    {
     "data": {
      "text/plain": [
       "\t1 -> { 2 3 4 }\n",
       "\t2 -> { 1 3 }\n",
       "\t3 -> { 1 2 4 }\n",
       "\t4 -> { 1 3 }"
      ]
     },
     "execution_count": 4,
     "metadata": {},
     "output_type": "execute_result"
    }
   ],
   "source": [
    "g"
   ]
  },
  {
   "cell_type": "code",
   "execution_count": 5,
   "metadata": {},
   "outputs": [
    {
     "data": {
      "text/plain": [
       "[3, 2, 3, 2]"
      ]
     },
     "execution_count": 5,
     "metadata": {},
     "output_type": "execute_result"
    }
   ],
   "source": [
    "g.score()#g.dot('graphe1')"
   ]
  },
  {
   "cell_type": "markdown",
   "metadata": {},
   "source": [
    "### Exercice 1\n",
    "\n",
    "Ajoutez une méthode `degre(self, a)` qui renvoie le degré d'un sommet `a` dans le graphe `self`. Vous pourrez regarder l'aide de `len` "
   ]
  },
  {
   "cell_type": "code",
   "execution_count": 6,
   "metadata": {},
   "outputs": [
    {
     "data": {
      "text/plain": [
       "\u001b[0;31mSignature:\u001b[0m \u001b[0mlen\u001b[0m\u001b[0;34m(\u001b[0m\u001b[0mobj\u001b[0m\u001b[0;34m,\u001b[0m \u001b[0;34m/\u001b[0m\u001b[0;34m)\u001b[0m\u001b[0;34m\u001b[0m\u001b[0m\n",
       "\u001b[0;31mDocstring:\u001b[0m Return the number of items in a container.\n",
       "\u001b[0;31mType:\u001b[0m      builtin_function_or_method\n"
      ]
     },
     "metadata": {},
     "output_type": "display_data"
    }
   ],
   "source": [
    "?len"
   ]
  },
  {
   "cell_type": "code",
   "execution_count": 7,
   "metadata": {},
   "outputs": [
    {
     "data": {
      "text/plain": [
       "3"
      ]
     },
     "execution_count": 7,
     "metadata": {},
     "output_type": "execute_result"
    }
   ],
   "source": [
    "g.degre('1') # degré du sommet '1' dans le graphe g"
   ]
  },
  {
   "cell_type": "markdown",
   "metadata": {},
   "source": [
    "### Exercice 2\n",
    "\n",
    "Ajoutez une méthode `score(self)` qui renvoie le score d'un graphe `self` sous la forme d'une liste (`list`)"
   ]
  },
  {
   "cell_type": "code",
   "execution_count": 8,
   "metadata": {},
   "outputs": [
    {
     "data": {
      "text/plain": [
       "\u001b[0;31mSignature:\u001b[0m \u001b[0mlist\u001b[0m\u001b[0;34m.\u001b[0m\u001b[0mappend\u001b[0m\u001b[0;34m(\u001b[0m\u001b[0mself\u001b[0m\u001b[0;34m,\u001b[0m \u001b[0mobject\u001b[0m\u001b[0;34m,\u001b[0m \u001b[0;34m/\u001b[0m\u001b[0;34m)\u001b[0m\u001b[0;34m\u001b[0m\u001b[0m\n",
       "\u001b[0;31mDocstring:\u001b[0m Append object to the end of the list.\n",
       "\u001b[0;31mType:\u001b[0m      method_descriptor\n"
      ]
     },
     "metadata": {},
     "output_type": "display_data"
    }
   ],
   "source": [
    "?list.append"
   ]
  },
  {
   "cell_type": "code",
   "execution_count": 9,
   "metadata": {},
   "outputs": [
    {
     "data": {
      "text/plain": [
       "\u001b[0;31mSignature:\u001b[0m \u001b[0msorted\u001b[0m\u001b[0;34m(\u001b[0m\u001b[0miterable\u001b[0m\u001b[0;34m,\u001b[0m \u001b[0;34m/\u001b[0m\u001b[0;34m,\u001b[0m \u001b[0;34m*\u001b[0m\u001b[0;34m,\u001b[0m \u001b[0mkey\u001b[0m\u001b[0;34m=\u001b[0m\u001b[0;32mNone\u001b[0m\u001b[0;34m,\u001b[0m \u001b[0mreverse\u001b[0m\u001b[0;34m=\u001b[0m\u001b[0;32mFalse\u001b[0m\u001b[0;34m)\u001b[0m\u001b[0;34m\u001b[0m\u001b[0m\n",
       "\u001b[0;31mDocstring:\u001b[0m\n",
       "Return a new list containing all items from the iterable in ascending order.\n",
       "\n",
       "A custom key function can be supplied to customize the sort order, and the\n",
       "reverse flag can be set to request the result in descending order.\n",
       "\u001b[0;31mType:\u001b[0m      builtin_function_or_method\n"
      ]
     },
     "metadata": {},
     "output_type": "display_data"
    }
   ],
   "source": [
    "?sorted"
   ]
  },
  {
   "cell_type": "code",
   "execution_count": 10,
   "metadata": {},
   "outputs": [
    {
     "data": {
      "text/plain": [
       "[3, 2, 3, 2]"
      ]
     },
     "execution_count": 10,
     "metadata": {},
     "output_type": "execute_result"
    }
   ],
   "source": [
    "g.score()"
   ]
  },
  {
   "cell_type": "markdown",
   "metadata": {},
   "source": [
    "### Exercice 3\n",
    "\n",
    "Ajoutez une méthode `est_isole(self, a)` qui teste si un sommet `a` est isolé dans le graphe `self`."
   ]
  },
  {
   "cell_type": "code",
   "execution_count": null,
   "metadata": {},
   "outputs": [],
   "source": []
  },
  {
   "cell_type": "markdown",
   "metadata": {},
   "source": [
    "### Exercice 4\n",
    "\n",
    "Créez une fonction `complet(n)` qui crée un graphe complet d'ordre `n`.\n",
    "Vous pourrez essayer de créer des ensembles par compréhension.\n",
    "Par exemple, voici un moyen simple de créer l'ensemble des entiers pairs strictement inférieurs à 10:\n",
    "```Python\n",
    "{k for k in range(10) if k%2 == 0}\n",
    "```"
   ]
  },
  {
   "cell_type": "code",
   "execution_count": 11,
   "metadata": {},
   "outputs": [],
   "source": [
    "def complet(n:int) -> Graphe:\n",
    "    # à compléter....\n",
    "    return None"
   ]
  },
  {
   "cell_type": "code",
   "execution_count": null,
   "metadata": {},
   "outputs": [],
   "source": []
  },
  {
   "cell_type": "markdown",
   "metadata": {},
   "source": [
    "Créez une fonction `roue(n)` qui crée une roue d'ordre `n`."
   ]
  },
  {
   "cell_type": "code",
   "execution_count": 13,
   "metadata": {},
   "outputs": [],
   "source": [
    "def roue(n:int) -> Graphe:\n",
    "    # à compléter\n",
    "    return None"
   ]
  },
  {
   "cell_type": "code",
   "execution_count": null,
   "metadata": {},
   "outputs": [],
   "source": []
  },
  {
   "cell_type": "markdown",
   "metadata": {},
   "source": [
    "Créez une fonction `cube(n)` qui crée un $n$-cube.\n",
    "On pourra utiliser àa un moment donné la fonction `bin(n)` qui renvoie la forme binaire de l'entier `n` souus forme de cha^ine de caractère:\n",
    "```Python\n",
    "In [1]: bin(13)\n",
    "Out[1]: '0b1101'\n",
    "```\n",
    "Vous pourrez commencer par créer une fonction `complete(c: str, t:int) -> str` qui complète par des zéros à gauche une chaîne `c` pour qu'elle ait une taille `t`:\n",
    "```Python\n",
    "In [2]: complete('123', 6)\n",
    "Out[2]: '000123'\n",
    "```"
   ]
  },
  {
   "cell_type": "code",
   "execution_count": 14,
   "metadata": {},
   "outputs": [],
   "source": [
    "def complete(c: str, t:int) -> str:\n",
    "        return None"
   ]
  },
  {
   "cell_type": "code",
   "execution_count": null,
   "metadata": {},
   "outputs": [],
   "source": []
  },
  {
   "cell_type": "markdown",
   "metadata": {},
   "source": [
    "On peut ensuite créer une fonction `voisins_cube(s:str) -> Set[str]` qui renvoie la liste des voisins d'une chaîne de bits dans un $n$-cube.\n",
    "```Python\n",
    "In [3]: voisins_cube('0100')\n",
    "Out[3]: {'0000', '0101', '0110', '1100'}\n",
    "```\n",
    "Il faut comprendre quelques subtilités entre structure de données mutables et non mutables.\n",
    "\n",
    "Une liste est mutable: on peut changer un élément d'une liste existante:\n",
    "```Python\n",
    "In [4]: xs = [1,2,3,4]\n",
    "\n",
    "In [5]: xs[-1] = 'fin'\n",
    "\n",
    "In [6]: xs\n",
    "Out[6]: [1, 2, 3, 'fin']\n",
    "```\n",
    "\n",
    "Ce n'est pas possible avec les chaînes de caractères et les $n$-uplets qui sont non mutables:\n",
    "\n",
    "```Python\n",
    "In [53]: cs = '1234'\n",
    "\n",
    "In [54]: cs[-1] = 'fin'\n",
    "---------------------------------------------------------------------------\n",
    "...\n",
    "TypeError: 'str' object does not support item assignment\n",
    "```\n",
    "\n",
    "On peut donc 'caster' une chaîne de caractères en une liste de caractères pour la transformer puis la 'recaster' en chaîne de caractères avec la méthode `join`:\n",
    "\n",
    "```Python\n",
    "In [63]: ?str.join\n",
    "Signature: str.join(self, iterable, /)\n",
    "Docstring:\n",
    "Concatenate any number of strings.\n",
    "\n",
    "The string whose method is called is inserted in between each given string.\n",
    "The result is returned as a new string.\n",
    "\n",
    "Example: '.'.join(['ab', 'pq', 'rs']) -> 'ab.pq.rs'\n",
    "```\n",
    "\n",
    "Comme dans de nombreux langages de programmation, les booléens `True` et `False` ne sont que des synonymes de `0` et `1`.  Pour obtenir le complémentaire de `0` et `1` en tant que booléens, on peut utiliser l'opérateur logique `not`:\n",
    "\n",
    "```Python\n",
    "In [7]: not(1)\n",
    "Out[7]: False\n",
    "\n",
    "In [8]: int(not(1))\n",
    "Out[8]: 0\n",
    "```\n",
    "\n",
    "Essayez maintenant de comprendre le fonctionnement de la fonction suivante:"
   ]
  },
  {
   "cell_type": "code",
   "execution_count": 15,
   "metadata": {},
   "outputs": [],
   "source": [
    "def cube(n: int) -> Graphe:\n",
    "        g = {}\n",
    "        ns = 2**n\n",
    "        sommets = [complete(bin(k)[2:], n) for k in range(ns)]\n",
    "        for s in sommets:\n",
    "                g[s] = voisins_cube(s)\n",
    "        return Graphe(g)"
   ]
  },
  {
   "cell_type": "code",
   "execution_count": null,
   "metadata": {},
   "outputs": [],
   "source": []
  },
  {
   "cell_type": "markdown",
   "metadata": {},
   "source": [
    "### Exercice 5\n",
    "\n",
    "Créez une fonction `rand_graph(n)` qui crée un graphe de `n` sommets aléatoirement. On pourra utiliser les fonctions `randint` et `sample` du module `random`.\n"
   ]
  },
  {
   "cell_type": "code",
   "execution_count": 71,
   "metadata": {},
   "outputs": [
    {
     "data": {
      "text/plain": [
       "\u001b[0;31mSignature:\u001b[0m \u001b[0msample\u001b[0m\u001b[0;34m(\u001b[0m\u001b[0mpopulation\u001b[0m\u001b[0;34m,\u001b[0m \u001b[0mk\u001b[0m\u001b[0;34m)\u001b[0m\u001b[0;34m\u001b[0m\u001b[0m\n",
       "\u001b[0;31mDocstring:\u001b[0m\n",
       "Chooses k unique random elements from a population sequence or set.\n",
       "\n",
       "Returns a new list containing elements from the population while\n",
       "leaving the original population unchanged.  The resulting list is\n",
       "in selection order so that all sub-slices will also be valid random\n",
       "samples.  This allows raffle winners (the sample) to be partitioned\n",
       "into grand prize and second place winners (the subslices).\n",
       "\n",
       "Members of the population need not be hashable or unique.  If the\n",
       "population contains repeats, then each occurrence is a possible\n",
       "selection in the sample.\n",
       "\n",
       "To choose a sample in a range of integers, use range as an argument.\n",
       "This is especially fast and space efficient for sampling from a\n",
       "large population:   sample(range(10000000), 60)\n",
       "\u001b[0;31mFile:\u001b[0m      ~/anaconda3/lib/python3.7/random.py\n",
       "\u001b[0;31mType:\u001b[0m      method\n"
      ]
     },
     "metadata": {},
     "output_type": "display_data"
    }
   ],
   "source": [
    "from random import sample, randint\n",
    "\n",
    "?sample"
   ]
  },
  {
   "cell_type": "code",
   "execution_count": null,
   "metadata": {},
   "outputs": [],
   "source": []
  },
  {
   "cell_type": "code",
   "execution_count": 72,
   "metadata": {},
   "outputs": [
    {
     "data": {
      "text/plain": [
       "\u001b[0;31mSignature:\u001b[0m \u001b[0mrandint\u001b[0m\u001b[0;34m(\u001b[0m\u001b[0ma\u001b[0m\u001b[0;34m,\u001b[0m \u001b[0mb\u001b[0m\u001b[0;34m)\u001b[0m\u001b[0;34m\u001b[0m\u001b[0m\n",
       "\u001b[0;31mDocstring:\u001b[0m\n",
       "Return random integer in range [a, b], including both end points.\n",
       "        \n",
       "\u001b[0;31mFile:\u001b[0m      ~/anaconda3/lib/python3.7/random.py\n",
       "\u001b[0;31mType:\u001b[0m      method\n"
      ]
     },
     "metadata": {},
     "output_type": "display_data"
    }
   ],
   "source": [
    "?randint"
   ]
  },
  {
   "cell_type": "markdown",
   "metadata": {},
   "source": [
    "Vous pourrez utiliser la construction par compréhension, par exemple:"
   ]
  },
  {
   "cell_type": "code",
   "execution_count": 73,
   "metadata": {},
   "outputs": [
    {
     "data": {
      "text/plain": [
       "['0', '1', '2', '3', '4', '5', '6', '7', '8', '9']"
      ]
     },
     "execution_count": 73,
     "metadata": {},
     "output_type": "execute_result"
    }
   ],
   "source": [
    "[str(k) for k in range(10)]"
   ]
  },
  {
   "cell_type": "code",
   "execution_count": null,
   "metadata": {},
   "outputs": [],
   "source": []
  },
  {
   "cell_type": "code",
   "execution_count": null,
   "metadata": {},
   "outputs": [],
   "source": []
  },
  {
   "cell_type": "code",
   "execution_count": 74,
   "metadata": {},
   "outputs": [
    {
     "data": {
      "text/plain": [
       "\t0 -> { 1 2 3 4 }\n",
       "\t1 -> { 0 1 3 4 }\n",
       "\t2 -> { 0 4 }\n",
       "\t3 -> { 0 1 3 4 }\n",
       "\t4 -> { 0 1 2 3 }"
      ]
     },
     "execution_count": 74,
     "metadata": {},
     "output_type": "execute_result"
    }
   ],
   "source": [
    "rand_graph(5)"
   ]
  },
  {
   "cell_type": "markdown",
   "metadata": {},
   "source": [
    "### Exercice 6\n",
    "\n",
    "Vérifiez sur des graphes aléatoires le théorème des poignées de main. Pour tester la parité, on pourra utiliser l'opérateur `%`"
   ]
  },
  {
   "cell_type": "code",
   "execution_count": null,
   "metadata": {},
   "outputs": [],
   "source": []
  },
  {
   "cell_type": "markdown",
   "metadata": {},
   "source": [
    "### Exercice 7\n",
    "\n",
    "Créez une méthode `est_regulier` qui vérifie si un graphe est régulier. "
   ]
  },
  {
   "cell_type": "code",
   "execution_count": null,
   "metadata": {},
   "outputs": [],
   "source": []
  },
  {
   "cell_type": "markdown",
   "metadata": {},
   "source": [
    "Passez ensuite aux [exercices du Poly](https://github.com/Informathix/UCO_L2/blob/master/Graphes/PolyGraphesL2_19.pdf)"
   ]
  },
  {
   "cell_type": "code",
   "execution_count": null,
   "metadata": {},
   "outputs": [],
   "source": []
  }
 ],
 "metadata": {
  "kernelspec": {
   "display_name": "Python 3",
   "language": "python",
   "name": "python3"
  },
  "language_info": {
   "codemirror_mode": {
    "name": "ipython",
    "version": 3
   },
   "file_extension": ".py",
   "mimetype": "text/x-python",
   "name": "python",
   "nbconvert_exporter": "python",
   "pygments_lexer": "ipython3",
   "version": "3.7.0"
  }
 },
 "nbformat": 4,
 "nbformat_minor": 2
}
