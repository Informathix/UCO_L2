{
 "cells": [
  {
   "cell_type": "markdown",
   "metadata": {},
   "source": [
    "# Exercice diapo 22"
   ]
  },
  {
   "cell_type": "code",
   "execution_count": 1,
   "metadata": {},
   "outputs": [],
   "source": [
    "p = MixedIntegerLinearProgram(maximization=False)"
   ]
  },
  {
   "cell_type": "code",
   "execution_count": 2,
   "metadata": {},
   "outputs": [],
   "source": [
    "x = p.new_variable(nonnegative=True, integer=True)"
   ]
  },
  {
   "cell_type": "code",
   "execution_count": 3,
   "metadata": {},
   "outputs": [],
   "source": [
    "p.set_objective(13*x[1,1] + 9*x[1,2] + 15*x[1,3] + 11*x[2,1] + 10*x[2,2] + 18*x[2,3])"
   ]
  },
  {
   "cell_type": "code",
   "execution_count": 4,
   "metadata": {},
   "outputs": [],
   "source": [
    "p.add_constraint(x[1,1] + x[1,2] + x[1,3] <= 18)\n",
    "p.add_constraint(x[2,1] + x[2,2] + x[2,3] <= 32)\n",
    "p.add_constraint(x[1,1] + x[2,1] >= 9)\n",
    "p.add_constraint(x[1,2] + x[2,2] >= 21)\n",
    "p.add_constraint(x[1,3] + x[2,3] >= 20)"
   ]
  },
  {
   "cell_type": "code",
   "execution_count": 5,
   "metadata": {},
   "outputs": [
    {
     "data": {
      "text/plain": [
       "615.0"
      ]
     },
     "execution_count": 5,
     "metadata": {},
     "output_type": "execute_result"
    }
   ],
   "source": [
    "p.solve()"
   ]
  },
  {
   "cell_type": "code",
   "execution_count": 6,
   "metadata": {},
   "outputs": [
    {
     "data": {
      "text/plain": [
       "{(1, 1): 0.0,\n",
       " (1, 2): 0.0,\n",
       " (1, 3): 18.0,\n",
       " (2, 1): 9.0,\n",
       " (2, 2): 21.0,\n",
       " (2, 3): 2.0}"
      ]
     },
     "execution_count": 6,
     "metadata": {},
     "output_type": "execute_result"
    }
   ],
   "source": [
    "p.get_values(x)"
   ]
  },
  {
   "cell_type": "markdown",
   "metadata": {},
   "source": [
    "# Diapo 23"
   ]
  },
  {
   "cell_type": "markdown",
   "metadata": {},
   "source": [
    "On cherche à minimiser les coûts de production par un programme linéaire"
   ]
  },
  {
   "cell_type": "code",
   "execution_count": 7,
   "metadata": {},
   "outputs": [],
   "source": [
    "p23 = MixedIntegerLinearProgram(maximization=False)"
   ]
  },
  {
   "cell_type": "markdown",
   "metadata": {},
   "source": [
    "Les variables sont entières (nombre de produit) et positives"
   ]
  },
  {
   "cell_type": "code",
   "execution_count": 8,
   "metadata": {},
   "outputs": [],
   "source": [
    "x = p23.new_variable(nonnegative=True, integer=True)"
   ]
  },
  {
   "cell_type": "markdown",
   "metadata": {},
   "source": [
    "On rentre la matrice des coûts"
   ]
  },
  {
   "cell_type": "code",
   "execution_count": 9,
   "metadata": {},
   "outputs": [],
   "source": [
    "c = [[1.75, 2.25, 1.5, 2, 1.5],[2, 2.5, 2.5, 1.5, 1]]"
   ]
  },
  {
   "cell_type": "markdown",
   "metadata": {},
   "source": [
    "On va transporter $x_{ij}$ produits de l'usine $i$ vers le client $j$.\n",
    " \n",
    "Pour la fonction objectif, il faut minimiser les coûts de transports. Chacun des  $x_{ij}$  produits allant de l'usine $i$ vers le client $j$ coûte $c_{ij}$ euros par produit.\n",
    "\n",
    "On fait attention à la numérotation des cellules."
   ]
  },
  {
   "cell_type": "code",
   "execution_count": 10,
   "metadata": {},
   "outputs": [],
   "source": [
    "p23.set_objective( p23.sum( c[i][j]*x[i+1,j+1] for j in range(5)  for i in range(2) ) )"
   ]
  },
  {
   "cell_type": "code",
   "execution_count": 11,
   "metadata": {},
   "outputs": [],
   "source": [
    "p23.add_constraint(p23.sum(x[1,j] for j in range(1,6)) <= 60000)\n",
    "p23.add_constraint(p23.sum(x[2,j] for j in range(1,6)) <= 60000)\n",
    "p23.add_constraint(p23.sum(x[i,1] for i in range(1,3)) >= 30000)\n",
    "p23.add_constraint(p23.sum(x[i,2] for i in range(1,3)) >= 23000)\n",
    "p23.add_constraint(p23.sum(x[i,3] for i in range(1,3)) >= 15000)\n",
    "p23.add_constraint(p23.sum(x[i,4] for i in range(1,3)) >= 32000)\n",
    "p23.add_constraint(p23.sum(x[i,5] for i in range(1,3)) >= 16000)"
   ]
  },
  {
   "cell_type": "code",
   "execution_count": 12,
   "metadata": {},
   "outputs": [
    {
     "data": {
      "text/plain": [
       "192750.0"
      ]
     },
     "execution_count": 12,
     "metadata": {},
     "output_type": "execute_result"
    }
   ],
   "source": [
    "p23.solve()"
   ]
  },
  {
   "cell_type": "code",
   "execution_count": 13,
   "metadata": {},
   "outputs": [
    {
     "data": {
      "text/plain": [
       "{(1, 1): 22000.0,\n",
       " (1, 2): 23000.0,\n",
       " (1, 3): 15000.0,\n",
       " (1, 4): 0.0,\n",
       " (1, 5): 0.0,\n",
       " (2, 1): 8000.0,\n",
       " (2, 2): 0.0,\n",
       " (2, 3): 0.0,\n",
       " (2, 4): 32000.0,\n",
       " (2, 5): 16000.0}"
      ]
     },
     "execution_count": 13,
     "metadata": {},
     "output_type": "execute_result"
    }
   ],
   "source": [
    "p23.get_values(x)"
   ]
  },
  {
   "cell_type": "markdown",
   "metadata": {},
   "source": [
    "# Diapo 24\n",
    "\n",
    "C'est presque le même problème...avec des lignes en plus."
   ]
  },
  {
   "cell_type": "code",
   "execution_count": 14,
   "metadata": {},
   "outputs": [],
   "source": [
    "c = [[.5, .5, 1,.2,100],\n",
    "     [1.5,.3,.5,.2,100],\n",
    "     [1.75, 2.25, 1.5, 2, 1.5],\n",
    "     [2, 2.5, 2.5, 1.5, 1],\n",
    "     [1.5,1.5,.5,1.5,3],\n",
    "     [1,.5,.5,1,.5],\n",
    "     [1,1.5,2,2,.5],\n",
    "     [2.5,1.5,.2,1.5,.5]]"
   ]
  },
  {
   "cell_type": "code",
   "execution_count": 15,
   "metadata": {},
   "outputs": [],
   "source": [
    "p42 = MixedIntegerLinearProgram(maximization=False)"
   ]
  },
  {
   "cell_type": "code",
   "execution_count": 16,
   "metadata": {},
   "outputs": [],
   "source": [
    "x = p42.new_variable(nonnegative=True, integer=True)"
   ]
  },
  {
   "cell_type": "code",
   "execution_count": 17,
   "metadata": {},
   "outputs": [],
   "source": [
    "p42.set_objective( p42.sum( c[i][j]*x[i+1,j+1] for j in range(5) for i in range(8) ) )"
   ]
  },
  {
   "cell_type": "code",
   "execution_count": 18,
   "metadata": {},
   "outputs": [],
   "source": [
    "# usines (capacité de production):\n",
    "p42.add_constraint(p42.sum(x[1,j] for j in range(1,6)) + p42.sum(x[3,j] for j in range(1,6)) <= 60000)\n",
    "p42.add_constraint(p42.sum(x[2,j] for j in range(1,6)) + p42.sum(x[4,j] for j in range(1,6)) <= 60000)\n",
    "# clients (satisfaction des besoins):\n",
    "p42.add_constraint(p42.sum(x[i,1] for i in range(3,9)) >= 30000)\n",
    "p42.add_constraint(p42.sum(x[i,2] for i in range(3,9)) >= 23000)\n",
    "p42.add_constraint(p42.sum(x[i,3] for i in range(3,9)) >= 15000)\n",
    "p42.add_constraint(p42.sum(x[i,4] for i in range(3,9)) >= 32000)\n",
    "p42.add_constraint(p42.sum(x[i,5] for i in range(3,9)) >= 16000)\n",
    "# entrepots entrant (capacité de stockage):\n",
    "p42.add_constraint(p42.sum(x[i,1] for i in range(1,3)) <= 45000)\n",
    "p42.add_constraint(p42.sum(x[i,2] for i in range(1,3)) <= 20000)\n",
    "p42.add_constraint(p42.sum(x[i,3] for i in range(1,3)) <= 30000)\n",
    "p42.add_constraint(p42.sum(x[i,4] for i in range(1,3)) <= 15000)\n",
    "#entrepots sortant (il ne peut sortir plus que ce qui est entré)\n",
    "p42.add_constraint(p42.sum(x[5,j] for j in range(1,6)) <= p42.sum(x[i,1] for i in range(1,3)))\n",
    "p42.add_constraint(p42.sum(x[6,j] for j in range(1,6)) <= p42.sum(x[i,2] for i in range(1,3)))\n",
    "p42.add_constraint(p42.sum(x[7,j] for j in range(1,6)) <= p42.sum(x[i,3] for i in range(1,3)))\n",
    "p42.add_constraint(p42.sum(x[8,j] for j in range(1,6)) <= p42.sum(x[i,4] for i in range(1,3)))"
   ]
  },
  {
   "cell_type": "code",
   "execution_count": 19,
   "metadata": {},
   "outputs": [
    {
     "data": {
      "text/plain": [
       "145500.0"
      ]
     },
     "execution_count": 19,
     "metadata": {},
     "output_type": "execute_result"
    }
   ],
   "source": [
    "p42.solve()"
   ]
  },
  {
   "cell_type": "code",
   "execution_count": 23,
   "metadata": {},
   "outputs": [],
   "source": [
    "D = p42.get_values(x)"
   ]
  },
  {
   "cell_type": "code",
   "execution_count": 21,
   "metadata": {},
   "outputs": [],
   "source": [
    "Dc = {}\n",
    "for k in D:\n",
    "    i, j = k\n",
    "    if D[k] > 0:\n",
    "        if i < 3 and j < 5:\n",
    "            Dc['Usine %d -> Entrepot %d'%(i,j)] = D[k]\n",
    "        elif i < 5:\n",
    "            Dc['Usine %d -> Client %d'%(i-2,j)] = D[k]\n",
    "        else:\n",
    "            Dc['Entrepot %d -> Client %d'%(i-4,j)] = D[k]"
   ]
  },
  {
   "cell_type": "code",
   "execution_count": 22,
   "metadata": {},
   "outputs": [
    {
     "data": {
      "text/plain": [
       "{'Entrepot 1 -> Client 2': 3000.0,\n",
       " 'Entrepot 2 -> Client 2': 20000.0,\n",
       " 'Entrepot 3 -> Client 1': 12000.0,\n",
       " 'Entrepot 4 -> Client 3': 15000.0,\n",
       " 'Usine 1 -> Client 1': 18000.0,\n",
       " 'Usine 1 -> Entrepot 1': 3000.0,\n",
       " 'Usine 1 -> Entrepot 2': 20000.0,\n",
       " 'Usine 1 -> Entrepot 4': 15000.0,\n",
       " 'Usine 2 -> Client 4': 32000.0,\n",
       " 'Usine 2 -> Client 5': 16000.0,\n",
       " 'Usine 2 -> Entrepot 3': 12000.0}"
      ]
     },
     "execution_count": 22,
     "metadata": {},
     "output_type": "execute_result"
    }
   ],
   "source": [
    "Dc"
   ]
  },
  {
   "cell_type": "markdown",
   "metadata": {},
   "source": [
    "# Diapo 25"
   ]
  },
  {
   "cell_type": "code",
   "execution_count": 36,
   "metadata": {},
   "outputs": [],
   "source": [
    "nbs = [28, 10, -89, 69,  42, -37, 76, 78,  -40, 92, -93, 45]"
   ]
  },
  {
   "cell_type": "code",
   "execution_count": 37,
   "metadata": {},
   "outputs": [],
   "source": [
    "p = MixedIntegerLinearProgram()\n",
    "bi = p.new_variable(binary=True)"
   ]
  },
  {
   "cell_type": "code",
   "execution_count": 38,
   "metadata": {},
   "outputs": [],
   "source": [
    "p.add_constraint(p.sum([nb*bi[nb] for nb in nbs]) == 0) # La contrainte \n",
    "p.add_constraint(p.sum([bi[nb] for nb in nbs]) >= 1) # on veut au moins un nombre (sinon...)"
   ]
  },
  {
   "cell_type": "code",
   "execution_count": 39,
   "metadata": {},
   "outputs": [
    {
     "data": {
      "text/plain": [
       "[-93, 10, 45, 78, -40]"
      ]
     },
     "execution_count": 39,
     "metadata": {},
     "output_type": "execute_result"
    }
   ],
   "source": [
    "p.solve()\n",
    "sols = p.get_values(bi) # dict des solutions\n",
    "[nb for nb in sols if sols[nb] == 1] # liste des nbs qui sont associés au booléen 1"
   ]
  },
  {
   "cell_type": "code",
   "execution_count": 43,
   "metadata": {},
   "outputs": [
    {
     "data": {
      "text/plain": [
       "{-93: 1.0,\n",
       " -89: 0.0,\n",
       " -40: 1.0,\n",
       " -37: 0.0,\n",
       " 10: 1.0,\n",
       " 28: 0.0,\n",
       " 42: 0.0,\n",
       " 45: 1.0,\n",
       " 69: 0.0,\n",
       " 76: 0.0,\n",
       " 78: 1.0,\n",
       " 92: 0.0}"
      ]
     },
     "execution_count": 43,
     "metadata": {},
     "output_type": "execute_result"
    }
   ],
   "source": [
    "sols"
   ]
  },
  {
   "cell_type": "markdown",
   "metadata": {},
   "source": [
    "# Diapo 26"
   ]
  },
  {
   "cell_type": "code",
   "execution_count": 14,
   "metadata": {},
   "outputs": [],
   "source": [
    "p = MixedIntegerLinearProgram(maximization=False)\n",
    "infs = p.new_variable(nonnegative=True,integer=True) # liste des nbs d'infirmières par service\n",
    "servs = [[1,0,0],[1,1,0],[0,1,0],[0,1,1]] # 4 services possibles"
   ]
  },
  {
   "cell_type": "code",
   "execution_count": 58,
   "metadata": {},
   "outputs": [],
   "source": [
    "p.set_objective( p.sum( infs[i+1] for i in range(4) ) ) # minimiser le nb d'infirmières"
   ]
  },
  {
   "cell_type": "code",
   "execution_count": 59,
   "metadata": {},
   "outputs": [],
   "source": [
    "p.add_constraint(p.sum(servs[i][0]*infs[i+1] for i in range(4)) >= 30) # vendredi (colonne 0)\n",
    "p.add_constraint(p.sum(servs[i][1]*infs[i+1] for i in range(4)) >= 20) # samedi (colonne 1)\n",
    "p.add_constraint(p.sum(servs[i][2]*infs[i+1] for i in range(4)) >= 12) # dimanche (colonne 2)"
   ]
  },
  {
   "cell_type": "code",
   "execution_count": 60,
   "metadata": {},
   "outputs": [
    {
     "data": {
      "text/plain": [
       "42.0"
      ]
     },
     "execution_count": 60,
     "metadata": {},
     "output_type": "execute_result"
    }
   ],
   "source": [
    "p.solve()"
   ]
  },
  {
   "cell_type": "code",
   "execution_count": 61,
   "metadata": {},
   "outputs": [
    {
     "data": {
      "text/plain": [
       "{1: 22.0, 2: 8.0, 3: 0.0, 4: 12.0}"
      ]
     },
     "execution_count": 61,
     "metadata": {},
     "output_type": "execute_result"
    }
   ],
   "source": [
    "p.get_values(infs)"
   ]
  },
  {
   "cell_type": "markdown",
   "metadata": {},
   "source": [
    "# Diapo 27"
   ]
  },
  {
   "cell_type": "code",
   "execution_count": 41,
   "metadata": {},
   "outputs": [],
   "source": [
    "p = MixedIntegerLinearProgram(maximization=False, solver = 'PPL')\n",
    "carbu = p.new_variable(binary=True)\n",
    "chargees = p.new_variable(integer=True, nonnegative=True)\n",
    "contmax = [1200, 800, 1300, 700]\n",
    "demandes = [1800, 1500, 1000]"
   ]
  },
  {
   "cell_type": "code",
   "execution_count": 42,
   "metadata": {},
   "outputs": [],
   "source": [
    "p.set_objective(p.sum(demandes[i-1] - p.sum(chargees[i,j] for j in range(1,5)) for i in range(1,4)))"
   ]
  },
  {
   "cell_type": "code",
   "execution_count": 43,
   "metadata": {},
   "outputs": [],
   "source": [
    "# pas plus de carburant que ce que contient le compartiment\n",
    "for j in range(1,5): # pour chaque compartiment (en colonne)\n",
    "    p.add_constraint(p.sum(chargees[i,j] for i in range(1,4)) <= contmax[j-1])\n",
    "# ne pas charger plus que ce qui est demand'e\n",
    "for i in range(1,4): # pour chaque carburant (en ligne)\n",
    "    p.add_constraint(p.sum(chargees[i,j] for j in range(1,5)) <= demandes[i-1])\n",
    "# un carburant par colonne\n",
    "for j in range(1,5): # un carburant par compartiment (=colonne)\n",
    "    p.add_constraint( p.sum(carbu[i,j] for i in range(1,4)) <= 1 )\n",
    "# quantit'es charg'ees <= quantit'es max\n",
    "# on parcourt cellule par cellule \n",
    "for i in range(1,4):\n",
    "    for j in range(1,5):\n",
    "        p.add_constraint(chargees[i,j] <= carbu[i,j]*contmax[j-1])"
   ]
  },
  {
   "cell_type": "code",
   "execution_count": 44,
   "metadata": {},
   "outputs": [
    {
     "data": {
      "text/plain": [
       "100.000000000000"
      ]
     },
     "execution_count": 44,
     "metadata": {},
     "output_type": "execute_result"
    }
   ],
   "source": [
    "0.25*p.solve()"
   ]
  },
  {
   "cell_type": "code",
   "execution_count": 45,
   "metadata": {},
   "outputs": [
    {
     "data": {
      "text/plain": [
       "{'Carburant 1 dans compartiment 1': 1100,\n",
       " 'Carburant 1 dans compartiment 4': 700,\n",
       " 'Carburant 2 dans compartiment 3': 1300,\n",
       " 'Carburant 3 dans compartiment 2': 800}"
      ]
     },
     "execution_count": 45,
     "metadata": {},
     "output_type": "execute_result"
    }
   ],
   "source": [
    "sols = p.get_values(chargees)\n",
    "Dc = {}\n",
    "for k in sols:\n",
    "    if sols[k] > 0:\n",
    "        carb, comp = k\n",
    "        Dc['Carburant %d dans compartiment %d'%(carb, comp)] = sols[k]\n",
    "Dc"
   ]
  },
  {
   "cell_type": "markdown",
   "metadata": {},
   "source": [
    "# Diapo 28"
   ]
  },
  {
   "cell_type": "code",
   "execution_count": 57,
   "metadata": {},
   "outputs": [],
   "source": [
    "p = MixedIntegerLinearProgram(maximization=False)\n",
    "achetees = p.new_variable(integer=True, nonnegative=True)\n",
    "dispomax = [25, 30, 25]\n",
    "demandes = [20, 25, 15, 15]\n",
    "couts = [[500, 450, 480, 520],\n",
    "         [520, 480, 510, 540],\n",
    "         [490, 510, 500, 520]]\n",
    "n_a = len(demandes)\n",
    "n_f = len(dispomax)\n",
    "fournisseur_min = 1\n",
    "contrat_min = 15"
   ]
  },
  {
   "cell_type": "code",
   "execution_count": 58,
   "metadata": {},
   "outputs": [],
   "source": [
    "p.set_objective(p.sum(achetees[i+1,j+1]*couts[i][j] for j in range(n_a) for i in range(n_f)))"
   ]
  },
  {
   "cell_type": "code",
   "execution_count": 59,
   "metadata": {},
   "outputs": [],
   "source": [
    "# dispo max par fournisseur (par ligne)\n",
    "for i in range(n_f): # pour chaque fournisseur\n",
    "    p.add_constraint(p.sum(achetees[i+1,j+1] for j in range(n_a)) <= dispomax[i])\n",
    "# demandes minimales pour chaque agence (= colonne)\n",
    "for j in range(n_a):\n",
    "    p.add_constraint(p.sum(achetees[i+1,j+1] for i in range(n_f)) >= demandes[j])\n",
    "# fournisseur 1 : pas de contrat inférieur à 15000\n",
    "for agence in range(1, n_a + 1):\n",
    "    p.add_constraint(achetees[fournisseur_min, agence] >= contrat_min)"
   ]
  },
  {
   "cell_type": "code",
   "execution_count": 60,
   "metadata": {},
   "outputs": [],
   "source": [
    "?MixedIntegerLinearProgram"
   ]
  },
  {
   "cell_type": "code",
   "execution_count": 61,
   "metadata": {},
   "outputs": [],
   "source": [
    "sols = p.get_values(achetees)"
   ]
  },
  {
   "cell_type": "code",
   "execution_count": 34,
   "metadata": {},
   "outputs": [
    {
     "data": {
      "text/plain": [
       "{'Fournisseur 1 -> Agence 2': 25.0,\n",
       " 'Fournisseur 2 -> Agence 3': 15.0,\n",
       " 'Fournisseur 2 -> Agence 4': 10.0,\n",
       " 'Fournisseur 3 -> Agence 1': 20.0,\n",
       " 'Fournisseur 3 -> Agence 4': 5.0}"
      ]
     },
     "execution_count": 34,
     "metadata": {},
     "output_type": "execute_result"
    }
   ],
   "source": [
    "Dc = {}\n",
    "for cle in sols:\n",
    "    if sols[cle] > 0:\n",
    "        fourn, agence = cle\n",
    "        Dc['Fournisseur %d -> Agence %d'%(fourn, agence)] = sols[cle]\n",
    "Dc"
   ]
  },
  {
   "cell_type": "code",
   "execution_count": null,
   "metadata": {},
   "outputs": [],
   "source": []
  },
  {
   "cell_type": "code",
   "execution_count": null,
   "metadata": {},
   "outputs": [],
   "source": []
  }
 ],
 "metadata": {
  "kernelspec": {
   "display_name": "SageMath 8.5",
   "language": "",
   "name": "sagemath"
  },
  "language_info": {
   "codemirror_mode": {
    "name": "ipython",
    "version": 2
   },
   "file_extension": ".py",
   "mimetype": "text/x-python",
   "name": "python",
   "nbconvert_exporter": "python",
   "pygments_lexer": "ipython2",
   "version": "2.7.15"
  }
 },
 "nbformat": 4,
 "nbformat_minor": 2
}
