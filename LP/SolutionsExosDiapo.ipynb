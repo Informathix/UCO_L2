{
 "cells": [
  {
   "cell_type": "markdown",
   "metadata": {},
   "source": [
    "# Exercice diapo 22"
   ]
  },
  {
   "cell_type": "code",
   "execution_count": 1,
   "metadata": {},
   "outputs": [],
   "source": [
    "p = MixedIntegerLinearProgram(maximization=False)"
   ]
  },
  {
   "cell_type": "code",
   "execution_count": 3,
   "metadata": {},
   "outputs": [],
   "source": [
    "x = p.new_variable(nonnegative=True, integer=True)"
   ]
  },
  {
   "cell_type": "code",
   "execution_count": 4,
   "metadata": {},
   "outputs": [],
   "source": [
    "p.set_objective(13*x[1,1] + 9*x[1,2] + 15*x[1,3] + 11*x[2,1] + 10*x[2,2] + 18*x[2,3])"
   ]
  },
  {
   "cell_type": "code",
   "execution_count": 7,
   "metadata": {},
   "outputs": [],
   "source": [
    "p.add_constraint(x[1,1] + x[1,2] + x[1,3] <= 18)\n",
    "p.add_constraint(x[2,1] + x[2,2] + x[2,3] <= 32)\n",
    "p.add_constraint(x[1,1] + x[2,1] >= 9)\n",
    "p.add_constraint(x[1,2] + x[2,2] >= 21)\n",
    "p.add_constraint(x[1,3] + x[2,3] >= 20)"
   ]
  },
  {
   "cell_type": "code",
   "execution_count": 8,
   "metadata": {},
   "outputs": [
    {
     "data": {
      "text/plain": [
       "615.0"
      ]
     },
     "execution_count": 8,
     "metadata": {},
     "output_type": "execute_result"
    }
   ],
   "source": [
    "p.solve()"
   ]
  },
  {
   "cell_type": "code",
   "execution_count": 9,
   "metadata": {},
   "outputs": [
    {
     "data": {
      "text/plain": [
       "{(1, 1): 0.0,\n",
       " (1, 2): 0.0,\n",
       " (1, 3): 18.0,\n",
       " (2, 1): 9.0,\n",
       " (2, 2): 21.0,\n",
       " (2, 3): 2.0}"
      ]
     },
     "execution_count": 9,
     "metadata": {},
     "output_type": "execute_result"
    }
   ],
   "source": [
    "p.get_values(x)"
   ]
  },
  {
   "cell_type": "markdown",
   "metadata": {},
   "source": [
    "# Diapo 23"
   ]
  },
  {
   "cell_type": "markdown",
   "metadata": {},
   "source": [
    "On cherche à minimiser les coûts de production par un programme linéaire"
   ]
  },
  {
   "cell_type": "code",
   "execution_count": 141,
   "metadata": {},
   "outputs": [],
   "source": [
    "p23 = MixedIntegerLinearProgram(maximization=False)"
   ]
  },
  {
   "cell_type": "markdown",
   "metadata": {},
   "source": [
    "Les variables sont entières (nombre de produit) et positives"
   ]
  },
  {
   "cell_type": "code",
   "execution_count": 142,
   "metadata": {},
   "outputs": [],
   "source": [
    "x = p23.new_variable(nonnegative=True, integer=True)"
   ]
  },
  {
   "cell_type": "markdown",
   "metadata": {},
   "source": [
    "On rentre la matrice des coûts"
   ]
  },
  {
   "cell_type": "code",
   "execution_count": 143,
   "metadata": {},
   "outputs": [],
   "source": [
    "c = [[1.75, 2.25, 1.5, 2, 1.5],[2, 2.5, 2.5, 1.5, 1]]"
   ]
  },
  {
   "cell_type": "markdown",
   "metadata": {},
   "source": [
    "On va transporter $x_{ij}$ produits de l'usine $i$ vers le client $j$.\n",
    " \n",
    "Pour la fonction objectif, il faut minimiser les coûts de transports. Chacun des  $x_{ij}$  produits allant de l'usine $i$ vers le client $j$ coûte $c_{ij}$ euros par produit.\n",
    "\n",
    "On fait attention à la numérotation des cellules."
   ]
  },
  {
   "cell_type": "code",
   "execution_count": 144,
   "metadata": {},
   "outputs": [],
   "source": [
    "p23.set_objective( p23.sum( c[i][j]*x[i+1,j+1] for j in range(5)  for i in range(2) ) )"
   ]
  },
  {
   "cell_type": "code",
   "execution_count": 145,
   "metadata": {},
   "outputs": [],
   "source": [
    "p23.add_constraint(p23.sum(x[1,j] for j in range(1,6)) <= 60000)\n",
    "p23.add_constraint(p23.sum(x[2,j] for j in range(1,6)) <= 60000)\n",
    "p23.add_constraint(p23.sum(x[i,1] for i in range(1,3)) >= 30000)\n",
    "p23.add_constraint(p23.sum(x[i,2] for i in range(1,3)) >= 23000)\n",
    "p23.add_constraint(p23.sum(x[i,3] for i in range(1,3)) >= 15000)\n",
    "p23.add_constraint(p23.sum(x[i,4] for i in range(1,3)) >= 32000)\n",
    "p23.add_constraint(p23.sum(x[i,5] for i in range(1,3)) >= 16000)"
   ]
  },
  {
   "cell_type": "code",
   "execution_count": 146,
   "metadata": {},
   "outputs": [
    {
     "data": {
      "text/plain": [
       "192750.0"
      ]
     },
     "execution_count": 146,
     "metadata": {},
     "output_type": "execute_result"
    }
   ],
   "source": [
    "p23.solve()"
   ]
  },
  {
   "cell_type": "code",
   "execution_count": 147,
   "metadata": {},
   "outputs": [
    {
     "data": {
      "text/plain": [
       "{(1, 1): 22000.0,\n",
       " (1, 2): 23000.0,\n",
       " (1, 3): 15000.0,\n",
       " (1, 4): 0.0,\n",
       " (1, 5): 0.0,\n",
       " (2, 1): 8000.0,\n",
       " (2, 2): 0.0,\n",
       " (2, 3): 0.0,\n",
       " (2, 4): 32000.0,\n",
       " (2, 5): 16000.0}"
      ]
     },
     "execution_count": 147,
     "metadata": {},
     "output_type": "execute_result"
    }
   ],
   "source": [
    "p23.get_values(x)"
   ]
  },
  {
   "cell_type": "markdown",
   "metadata": {},
   "source": [
    "# Diapo 42\n",
    "\n",
    "C'est presque le même problème...avec des lignes en plus."
   ]
  },
  {
   "cell_type": "code",
   "execution_count": 148,
   "metadata": {},
   "outputs": [],
   "source": [
    "c = [[.5, .5, 1,.2,100],\n",
    "     [1.5,.3,.5,.2,100],\n",
    "     [1.75, 2.25, 1.5, 2, 1.5],\n",
    "     [2, 2.5, 2.5, 1.5, 1],\n",
    "     [1.5,1.5,.5,1.5,3],\n",
    "     [1,.5,.5,1,.5],\n",
    "     [1,1.5,2,2,.5],\n",
    "     [2.5,1.5,.2,1.5,.5]]"
   ]
  },
  {
   "cell_type": "code",
   "execution_count": 149,
   "metadata": {},
   "outputs": [],
   "source": [
    "p42 = MixedIntegerLinearProgram(maximization=False)"
   ]
  },
  {
   "cell_type": "code",
   "execution_count": 150,
   "metadata": {},
   "outputs": [],
   "source": [
    "x = p42.new_variable(nonnegative=True, integer=True)"
   ]
  },
  {
   "cell_type": "code",
   "execution_count": 151,
   "metadata": {},
   "outputs": [],
   "source": [
    "p42.set_objective( p42.sum( c[i][j]*x[i+1,j+1] for j in range(5)  for i in range(8) ) )"
   ]
  },
  {
   "cell_type": "code",
   "execution_count": 152,
   "metadata": {},
   "outputs": [],
   "source": [
    "# usines (capacité de production):\n",
    "p42.add_constraint(p42.sum(x[1,j] for j in range(1,6)) + p42.sum(x[3,j] for j in range(1,6)) <= 60000)\n",
    "p42.add_constraint(p42.sum(x[2,j] for j in range(1,6)) + p42.sum(x[4,j] for j in range(1,6)) <= 60000)\n",
    "# clients (satisfaction des besoins):\n",
    "p42.add_constraint(p42.sum(x[i,1] for i in range(3,9)) >= 30000)\n",
    "p42.add_constraint(p42.sum(x[i,2] for i in range(3,9)) >= 23000)\n",
    "p42.add_constraint(p42.sum(x[i,3] for i in range(3,9)) >= 15000)\n",
    "p42.add_constraint(p42.sum(x[i,4] for i in range(3,9)) >= 32000)\n",
    "p42.add_constraint(p42.sum(x[i,5] for i in range(3,9)) >= 16000)\n",
    "# entrepots entrant (capacité de stockage):\n",
    "p42.add_constraint(p42.sum(x[i,1] for i in range(1,3)) <= 45000)\n",
    "p42.add_constraint(p42.sum(x[i,2] for i in range(1,3)) <= 20000)\n",
    "p42.add_constraint(p42.sum(x[i,3] for i in range(1,3)) <= 30000)\n",
    "p42.add_constraint(p42.sum(x[i,4] for i in range(1,3)) <= 15000)\n",
    "#entrepots sortant (il ne peut sortir plus que ce qui est entré)\n",
    "p42.add_constraint(p42.sum(x[5,j] for j in range(1,6)) <= p42.sum(x[i,1] for i in range(1,3)))\n",
    "p42.add_constraint(p42.sum(x[6,j] for j in range(1,6)) <= p42.sum(x[i,2] for i in range(1,3)))\n",
    "p42.add_constraint(p42.sum(x[7,j] for j in range(1,6)) <= p42.sum(x[i,3] for i in range(1,3)))\n",
    "p42.add_constraint(p42.sum(x[8,j] for j in range(1,6)) <= p42.sum(x[i,4] for i in range(1,3)))"
   ]
  },
  {
   "cell_type": "code",
   "execution_count": 153,
   "metadata": {},
   "outputs": [
    {
     "data": {
      "text/plain": [
       "145500.0"
      ]
     },
     "execution_count": 153,
     "metadata": {},
     "output_type": "execute_result"
    }
   ],
   "source": [
    "p42.solve()"
   ]
  },
  {
   "cell_type": "code",
   "execution_count": 154,
   "metadata": {},
   "outputs": [
    {
     "data": {
      "text/plain": [
       "{(1, 1): 3000.0,\n",
       " (1, 2): 20000.0,\n",
       " (1, 3): 0.0,\n",
       " (1, 4): 15000.0,\n",
       " (1, 5): 0.0,\n",
       " (2, 1): 0.0,\n",
       " (2, 2): 0.0,\n",
       " (2, 3): 12000.0,\n",
       " (2, 4): 0.0,\n",
       " (2, 5): 0.0,\n",
       " (3, 1): 18000.0,\n",
       " (3, 2): 0.0,\n",
       " (3, 3): 0.0,\n",
       " (3, 4): 0.0,\n",
       " (3, 5): 0.0,\n",
       " (4, 1): 0.0,\n",
       " (4, 2): 0.0,\n",
       " (4, 3): 0.0,\n",
       " (4, 4): 32000.0,\n",
       " (4, 5): 16000.0,\n",
       " (5, 1): 0.0,\n",
       " (5, 2): 3000.0,\n",
       " (5, 3): 0.0,\n",
       " (5, 4): 0.0,\n",
       " (5, 5): 0.0,\n",
       " (6, 1): 0.0,\n",
       " (6, 2): 20000.0,\n",
       " (6, 3): 0.0,\n",
       " (6, 4): 0.0,\n",
       " (6, 5): 0.0,\n",
       " (7, 1): 12000.0,\n",
       " (7, 2): 0.0,\n",
       " (7, 3): 0.0,\n",
       " (7, 4): 0.0,\n",
       " (7, 5): 0.0,\n",
       " (8, 1): 0.0,\n",
       " (8, 2): 0.0,\n",
       " (8, 3): 15000.0,\n",
       " (8, 4): 0.0,\n",
       " (8, 5): 0.0}"
      ]
     },
     "execution_count": 154,
     "metadata": {},
     "output_type": "execute_result"
    }
   ],
   "source": [
    "p42.get_values(x)"
   ]
  },
  {
   "cell_type": "code",
   "execution_count": null,
   "metadata": {},
   "outputs": [],
   "source": []
  },
  {
   "cell_type": "code",
   "execution_count": null,
   "metadata": {},
   "outputs": [],
   "source": []
  }
 ],
 "metadata": {
  "kernelspec": {
   "display_name": "SageMath 8.5",
   "language": "",
   "name": "sagemath"
  },
  "language_info": {
   "codemirror_mode": {
    "name": "ipython",
    "version": 2
   },
   "file_extension": ".py",
   "mimetype": "text/x-python",
   "name": "python",
   "nbconvert_exporter": "python",
   "pygments_lexer": "ipython2",
   "version": "2.7.15"
  }
 },
 "nbformat": 4,
 "nbformat_minor": 2
}
